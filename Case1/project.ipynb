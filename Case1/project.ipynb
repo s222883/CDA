{
 "cells": [
  {
   "cell_type": "code",
<<<<<<< Updated upstream
   "execution_count": 1,
=======
   "execution_count": 12,
>>>>>>> Stashed changes
   "metadata": {},
   "outputs": [],
   "source": [
    "import pandas as pd\n",
    "import numpy as np\n",
    "import matplotlib.pyplot as plt\n",
    "from sklearn.impute import SimpleImputer\n",
    "from sklearn.decomposition import PCA\n",
    "from sklearn.preprocessing import StandardScaler\n",
    "import seaborn as sb\n",
    "from sklearn import preprocessing\n",
    "import scipy"
   ]
  },
  {
   "cell_type": "code",
<<<<<<< Updated upstream
   "execution_count": 2,
=======
   "execution_count": 13,
>>>>>>> Stashed changes
   "metadata": {},
   "outputs": [],
   "source": [
    "df = pd.read_csv(r\"case1Data.txt\", sep=', ', engine='python')\n",
    "y = df.y\n",
    "X_num = df.iloc[:, 1:96]\n",
    "df_Xn = pd.read_csv(r\"case1Data_Xnew.txt\",  sep=', ', engine='python')"
   ]
  },
  {
<<<<<<< Updated upstream
   "cell_type": "code",
<<<<<<< Updated upstream
   "execution_count": 3,
=======
   "execution_count": 14,
>>>>>>> Stashed changes
=======
   "cell_type": "markdown",
>>>>>>> Stashed changes
   "metadata": {},
   "outputs": [],
   "source": [
    "imputer = SimpleImputer(missing_values=np.nan, strategy='mean')\n",
    "X_num_fil = imputer.fit_transform(X_num)"
   ]
  },
  {
   "cell_type": "code",
<<<<<<< Updated upstream
   "execution_count": 4,
=======
   "execution_count": 15,
>>>>>>> Stashed changes
   "metadata": {},
   "outputs": [],
   "source": [
    "# Standarization of the dataset\n",
    "sc = StandardScaler()\n",
    "X_stdz = sc.fit_transform(X_num_fil)\n",
    "df_stdz = pd.DataFrame(data = X_stdz)\n",
    "X = X_stdz[:, 1:]\n",
    "y = X_stdz[:, 0]"
   ]
  },
  {
   "cell_type": "code",
<<<<<<< Updated upstream
   "execution_count": 5,
=======
   "execution_count": 16,
>>>>>>> Stashed changes
   "metadata": {},
   "outputs": [
    {
     "name": "stdout",
     "output_type": "stream",
     "text": [
      "Explained variance: 40.97378803589773\n"
     ]
    },
    {
     "data": {
      "text/plain": [
<<<<<<< Updated upstream
       "<matplotlib.colorbar.Colorbar at 0x7f9808560640>"
      ]
     },
     "execution_count": 5,
=======
       "<matplotlib.colorbar.Colorbar at 0x7f90489e6610>"
      ]
     },
     "execution_count": 16,
>>>>>>> Stashed changes
     "metadata": {},
     "output_type": "execute_result"
    },
    {
     "data": {
      "image/png": "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\n",
      "text/plain": [
       "<Figure size 432x288 with 2 Axes>"
      ]
     },
     "metadata": {
      "needs_background": "light"
     },
     "output_type": "display_data"
    }
   ],
   "source": [
    "pca = PCA(n_components=2)\n",
    "X_pca = pca.fit_transform(X)\n",
    "print(\"Explained variance:\", np.sum(pca.explained_variance_))\n",
    "cm = plt.cm.get_cmap('RdYlBu')\n",
    "sc = plt.scatter(X_pca[:, 0], X_pca[:, 1], c=y,vmin=y.min(), vmax=y.max(), s=35, cmap=cm)\n",
    "plt.colorbar(sc)"
   ]
  },
  {
   "cell_type": "code",
<<<<<<< Updated upstream
   "execution_count": 6,
=======
   "execution_count": 17,
>>>>>>> Stashed changes
   "metadata": {},
   "outputs": [],
   "source": [
    "df_temp = pd.DataFrame(X_stdz)"
   ]
  },
  {
   "cell_type": "code",
<<<<<<< Updated upstream
   "execution_count": 7,
=======
   "execution_count": 18,
>>>>>>> Stashed changes
   "metadata": {},
   "outputs": [],
   "source": [
    "from sklearn.preprocessing import LabelEncoder\n",
    "from sklearn.pipeline import Pipeline\n",
    "\n",
    "class MultiColumnLabelEncoder:\n",
    "    def __init__(self,columns = None):\n",
    "        self.columns = columns # array of column names to encode\n",
    "\n",
    "    def fit(self,X,y=None):\n",
    "        return self # not relevant here\n",
    "\n",
    "    def transform(self,X):\n",
    "        '''\n",
    "        Transforms columns of X specified in self.columns using\n",
    "        LabelEncoder(). If no columns specified, transforms all\n",
    "        columns in X.\n",
    "        '''\n",
    "        output = X.copy()\n",
    "        if self.columns is not None:\n",
    "            for col in self.columns:\n",
    "                output[col] = LabelEncoder().fit_transform(output[col])\n",
    "        else:\n",
    "            for colname,col in output.iteritems():\n",
    "                output[colname] = LabelEncoder().fit_transform(col)\n",
    "        return output\n",
    "\n",
    "    def fit_transform(self,X,y=None):\n",
    "        return self.fit(X,y).transform(X)"
   ]
  },
  {
   "cell_type": "code",
<<<<<<< Updated upstream
   "execution_count": 8,
   "metadata": {},
   "outputs": [
    {
=======
   "execution_count": 22,
   "metadata": {},
   "outputs": [
    {
     "name": "stdout",
     "output_type": "stream",
     "text": [
      "   C_ 1 C_ 2 C_ 3 C_ 4 C_ 5\n",
      "0     I  NaN    H    J    K\n",
      "1     H  NaN    H    I    I\n",
      "2   NaN    I    K    J    G\n",
      "3     K    H    I    I  NaN\n",
      "4     H    H    K    J    J\n",
      "..  ...  ...  ...  ...  ...\n",
      "95    H    I    G  NaN    H\n",
      "96    H    I    I    J    K\n",
      "97    G    H  NaN    G    K\n",
      "98    G    I    I    H  NaN\n",
      "99    J  NaN    I    H    J\n",
      "\n",
      "[100 rows x 5 columns]\n"
     ]
    },
    {
>>>>>>> Stashed changes
     "ename": "TypeError",
     "evalue": "Encoders require their input to be uniformly strings or numbers. Got ['float', 'str']",
     "output_type": "error",
     "traceback": [
      "\u001b[0;31m---------------------------------------------------------------------------\u001b[0m",
      "\u001b[0;31mTypeError\u001b[0m                                 Traceback (most recent call last)",
      "\u001b[0;32m~/anaconda3/lib/python3.8/site-packages/sklearn/preprocessing/_label.py\u001b[0m in \u001b[0;36m_encode\u001b[0;34m(values, uniques, encode, check_unknown)\u001b[0m\n\u001b[1;32m    112\u001b[0m         \u001b[0;32mtry\u001b[0m\u001b[0;34m:\u001b[0m\u001b[0;34m\u001b[0m\u001b[0;34m\u001b[0m\u001b[0m\n\u001b[0;32m--> 113\u001b[0;31m             \u001b[0mres\u001b[0m \u001b[0;34m=\u001b[0m \u001b[0m_encode_python\u001b[0m\u001b[0;34m(\u001b[0m\u001b[0mvalues\u001b[0m\u001b[0;34m,\u001b[0m \u001b[0muniques\u001b[0m\u001b[0;34m,\u001b[0m \u001b[0mencode\u001b[0m\u001b[0;34m)\u001b[0m\u001b[0;34m\u001b[0m\u001b[0;34m\u001b[0m\u001b[0m\n\u001b[0m\u001b[1;32m    114\u001b[0m         \u001b[0;32mexcept\u001b[0m \u001b[0mTypeError\u001b[0m\u001b[0;34m:\u001b[0m\u001b[0;34m\u001b[0m\u001b[0;34m\u001b[0m\u001b[0m\n",
      "\u001b[0;32m~/anaconda3/lib/python3.8/site-packages/sklearn/preprocessing/_label.py\u001b[0m in \u001b[0;36m_encode_python\u001b[0;34m(values, uniques, encode)\u001b[0m\n\u001b[1;32m     60\u001b[0m     \u001b[0;32mif\u001b[0m \u001b[0muniques\u001b[0m \u001b[0;32mis\u001b[0m \u001b[0;32mNone\u001b[0m\u001b[0;34m:\u001b[0m\u001b[0;34m\u001b[0m\u001b[0;34m\u001b[0m\u001b[0m\n\u001b[0;32m---> 61\u001b[0;31m         \u001b[0muniques\u001b[0m \u001b[0;34m=\u001b[0m \u001b[0msorted\u001b[0m\u001b[0;34m(\u001b[0m\u001b[0mset\u001b[0m\u001b[0;34m(\u001b[0m\u001b[0mvalues\u001b[0m\u001b[0;34m)\u001b[0m\u001b[0;34m)\u001b[0m\u001b[0;34m\u001b[0m\u001b[0;34m\u001b[0m\u001b[0m\n\u001b[0m\u001b[1;32m     62\u001b[0m         \u001b[0muniques\u001b[0m \u001b[0;34m=\u001b[0m \u001b[0mnp\u001b[0m\u001b[0;34m.\u001b[0m\u001b[0marray\u001b[0m\u001b[0;34m(\u001b[0m\u001b[0muniques\u001b[0m\u001b[0;34m,\u001b[0m \u001b[0mdtype\u001b[0m\u001b[0;34m=\u001b[0m\u001b[0mvalues\u001b[0m\u001b[0;34m.\u001b[0m\u001b[0mdtype\u001b[0m\u001b[0;34m)\u001b[0m\u001b[0;34m\u001b[0m\u001b[0;34m\u001b[0m\u001b[0m\n",
      "\u001b[0;31mTypeError\u001b[0m: '<' not supported between instances of 'str' and 'float'",
      "\nDuring handling of the above exception, another exception occurred:\n",
      "\u001b[0;31mTypeError\u001b[0m                                 Traceback (most recent call last)",
<<<<<<< Updated upstream
      "\u001b[0;32m<ipython-input-8-49022e6b790f>\u001b[0m in \u001b[0;36m<module>\u001b[0;34m\u001b[0m\n\u001b[1;32m      1\u001b[0m \u001b[0mdf_cat\u001b[0m \u001b[0;34m=\u001b[0m \u001b[0mdf\u001b[0m\u001b[0;34m[\u001b[0m\u001b[0;34m[\u001b[0m\u001b[0;34m'C_ 1'\u001b[0m\u001b[0;34m,\u001b[0m \u001b[0;34m'C_ 2'\u001b[0m\u001b[0;34m,\u001b[0m \u001b[0;34m'C_ 3'\u001b[0m\u001b[0;34m,\u001b[0m \u001b[0;34m'C_ 4'\u001b[0m\u001b[0;34m,\u001b[0m \u001b[0;34m'C_ 5'\u001b[0m\u001b[0;34m]\u001b[0m\u001b[0;34m]\u001b[0m\u001b[0;34m\u001b[0m\u001b[0;34m\u001b[0m\u001b[0m\n\u001b[1;32m      2\u001b[0m \u001b[0mmask\u001b[0m \u001b[0;34m=\u001b[0m \u001b[0mdf_cat\u001b[0m\u001b[0;34m.\u001b[0m\u001b[0misnull\u001b[0m\u001b[0;34m(\u001b[0m\u001b[0;34m)\u001b[0m\u001b[0;34m\u001b[0m\u001b[0;34m\u001b[0m\u001b[0m\n\u001b[0;32m----> 3\u001b[0;31m \u001b[0mdf_cat_encoded\u001b[0m \u001b[0;34m=\u001b[0m \u001b[0mMultiColumnLabelEncoder\u001b[0m\u001b[0;34m(\u001b[0m\u001b[0;34m)\u001b[0m\u001b[0;34m.\u001b[0m\u001b[0mfit_transform\u001b[0m\u001b[0;34m(\u001b[0m\u001b[0mdf_cat\u001b[0m\u001b[0;34m)\u001b[0m\u001b[0;34m\u001b[0m\u001b[0;34m\u001b[0m\u001b[0m\n\u001b[0m\u001b[1;32m      4\u001b[0m \u001b[0mdf_cat_final\u001b[0m \u001b[0;34m=\u001b[0m \u001b[0mdf_cat_encoded\u001b[0m\u001b[0;34m.\u001b[0m\u001b[0mwhere\u001b[0m\u001b[0;34m(\u001b[0m\u001b[0;34m~\u001b[0m\u001b[0mmask\u001b[0m\u001b[0;34m)\u001b[0m\u001b[0;34m\u001b[0m\u001b[0;34m\u001b[0m\u001b[0m\n",
      "\u001b[0;32m<ipython-input-7-7f86c30d9b5c>\u001b[0m in \u001b[0;36mfit_transform\u001b[0;34m(self, X, y)\u001b[0m\n\u001b[1;32m     25\u001b[0m \u001b[0;34m\u001b[0m\u001b[0m\n\u001b[1;32m     26\u001b[0m     \u001b[0;32mdef\u001b[0m \u001b[0mfit_transform\u001b[0m\u001b[0;34m(\u001b[0m\u001b[0mself\u001b[0m\u001b[0;34m,\u001b[0m\u001b[0mX\u001b[0m\u001b[0;34m,\u001b[0m\u001b[0my\u001b[0m\u001b[0;34m=\u001b[0m\u001b[0;32mNone\u001b[0m\u001b[0;34m)\u001b[0m\u001b[0;34m:\u001b[0m\u001b[0;34m\u001b[0m\u001b[0;34m\u001b[0m\u001b[0m\n\u001b[0;32m---> 27\u001b[0;31m         \u001b[0;32mreturn\u001b[0m \u001b[0mself\u001b[0m\u001b[0;34m.\u001b[0m\u001b[0mfit\u001b[0m\u001b[0;34m(\u001b[0m\u001b[0mX\u001b[0m\u001b[0;34m,\u001b[0m\u001b[0my\u001b[0m\u001b[0;34m)\u001b[0m\u001b[0;34m.\u001b[0m\u001b[0mtransform\u001b[0m\u001b[0;34m(\u001b[0m\u001b[0mX\u001b[0m\u001b[0;34m)\u001b[0m\u001b[0;34m\u001b[0m\u001b[0;34m\u001b[0m\u001b[0m\n\u001b[0m",
      "\u001b[0;32m<ipython-input-7-7f86c30d9b5c>\u001b[0m in \u001b[0;36mtransform\u001b[0;34m(self, X)\u001b[0m\n\u001b[1;32m     21\u001b[0m         \u001b[0;32melse\u001b[0m\u001b[0;34m:\u001b[0m\u001b[0;34m\u001b[0m\u001b[0;34m\u001b[0m\u001b[0m\n\u001b[1;32m     22\u001b[0m             \u001b[0;32mfor\u001b[0m \u001b[0mcolname\u001b[0m\u001b[0;34m,\u001b[0m\u001b[0mcol\u001b[0m \u001b[0;32min\u001b[0m \u001b[0moutput\u001b[0m\u001b[0;34m.\u001b[0m\u001b[0miteritems\u001b[0m\u001b[0;34m(\u001b[0m\u001b[0;34m)\u001b[0m\u001b[0;34m:\u001b[0m\u001b[0;34m\u001b[0m\u001b[0;34m\u001b[0m\u001b[0m\n\u001b[0;32m---> 23\u001b[0;31m                 \u001b[0moutput\u001b[0m\u001b[0;34m[\u001b[0m\u001b[0mcolname\u001b[0m\u001b[0;34m]\u001b[0m \u001b[0;34m=\u001b[0m \u001b[0mLabelEncoder\u001b[0m\u001b[0;34m(\u001b[0m\u001b[0;34m)\u001b[0m\u001b[0;34m.\u001b[0m\u001b[0mfit_transform\u001b[0m\u001b[0;34m(\u001b[0m\u001b[0mcol\u001b[0m\u001b[0;34m)\u001b[0m\u001b[0;34m\u001b[0m\u001b[0;34m\u001b[0m\u001b[0m\n\u001b[0m\u001b[1;32m     24\u001b[0m         \u001b[0;32mreturn\u001b[0m \u001b[0moutput\u001b[0m\u001b[0;34m\u001b[0m\u001b[0;34m\u001b[0m\u001b[0m\n\u001b[1;32m     25\u001b[0m \u001b[0;34m\u001b[0m\u001b[0m\n",
=======
      "\u001b[0;32m<ipython-input-22-b7727958922f>\u001b[0m in \u001b[0;36m<module>\u001b[0;34m\u001b[0m\n\u001b[1;32m      2\u001b[0m \u001b[0mmask\u001b[0m \u001b[0;34m=\u001b[0m \u001b[0mdf_cat\u001b[0m\u001b[0;34m.\u001b[0m\u001b[0misnull\u001b[0m\u001b[0;34m(\u001b[0m\u001b[0;34m)\u001b[0m\u001b[0;34m\u001b[0m\u001b[0;34m\u001b[0m\u001b[0m\n\u001b[1;32m      3\u001b[0m \u001b[0mprint\u001b[0m\u001b[0;34m(\u001b[0m\u001b[0mdf_cat\u001b[0m\u001b[0;34m)\u001b[0m\u001b[0;34m\u001b[0m\u001b[0;34m\u001b[0m\u001b[0m\n\u001b[0;32m----> 4\u001b[0;31m \u001b[0mdf_cat_encoded\u001b[0m \u001b[0;34m=\u001b[0m \u001b[0mMultiColumnLabelEncoder\u001b[0m\u001b[0;34m(\u001b[0m\u001b[0;34m)\u001b[0m\u001b[0;34m.\u001b[0m\u001b[0mfit_transform\u001b[0m\u001b[0;34m(\u001b[0m\u001b[0mdf_cat\u001b[0m\u001b[0;34m)\u001b[0m\u001b[0;34m\u001b[0m\u001b[0;34m\u001b[0m\u001b[0m\n\u001b[0m\u001b[1;32m      5\u001b[0m \u001b[0mdf_cat_final\u001b[0m \u001b[0;34m=\u001b[0m \u001b[0mdf_cat_encoded\u001b[0m\u001b[0;34m.\u001b[0m\u001b[0mwhere\u001b[0m\u001b[0;34m(\u001b[0m\u001b[0;34m~\u001b[0m\u001b[0mmask\u001b[0m\u001b[0;34m)\u001b[0m\u001b[0;34m\u001b[0m\u001b[0;34m\u001b[0m\u001b[0m\n",
      "\u001b[0;32m<ipython-input-18-7f86c30d9b5c>\u001b[0m in \u001b[0;36mfit_transform\u001b[0;34m(self, X, y)\u001b[0m\n\u001b[1;32m     25\u001b[0m \u001b[0;34m\u001b[0m\u001b[0m\n\u001b[1;32m     26\u001b[0m     \u001b[0;32mdef\u001b[0m \u001b[0mfit_transform\u001b[0m\u001b[0;34m(\u001b[0m\u001b[0mself\u001b[0m\u001b[0;34m,\u001b[0m\u001b[0mX\u001b[0m\u001b[0;34m,\u001b[0m\u001b[0my\u001b[0m\u001b[0;34m=\u001b[0m\u001b[0;32mNone\u001b[0m\u001b[0;34m)\u001b[0m\u001b[0;34m:\u001b[0m\u001b[0;34m\u001b[0m\u001b[0;34m\u001b[0m\u001b[0m\n\u001b[0;32m---> 27\u001b[0;31m         \u001b[0;32mreturn\u001b[0m \u001b[0mself\u001b[0m\u001b[0;34m.\u001b[0m\u001b[0mfit\u001b[0m\u001b[0;34m(\u001b[0m\u001b[0mX\u001b[0m\u001b[0;34m,\u001b[0m\u001b[0my\u001b[0m\u001b[0;34m)\u001b[0m\u001b[0;34m.\u001b[0m\u001b[0mtransform\u001b[0m\u001b[0;34m(\u001b[0m\u001b[0mX\u001b[0m\u001b[0;34m)\u001b[0m\u001b[0;34m\u001b[0m\u001b[0;34m\u001b[0m\u001b[0m\n\u001b[0m",
      "\u001b[0;32m<ipython-input-18-7f86c30d9b5c>\u001b[0m in \u001b[0;36mtransform\u001b[0;34m(self, X)\u001b[0m\n\u001b[1;32m     21\u001b[0m         \u001b[0;32melse\u001b[0m\u001b[0;34m:\u001b[0m\u001b[0;34m\u001b[0m\u001b[0;34m\u001b[0m\u001b[0m\n\u001b[1;32m     22\u001b[0m             \u001b[0;32mfor\u001b[0m \u001b[0mcolname\u001b[0m\u001b[0;34m,\u001b[0m\u001b[0mcol\u001b[0m \u001b[0;32min\u001b[0m \u001b[0moutput\u001b[0m\u001b[0;34m.\u001b[0m\u001b[0miteritems\u001b[0m\u001b[0;34m(\u001b[0m\u001b[0;34m)\u001b[0m\u001b[0;34m:\u001b[0m\u001b[0;34m\u001b[0m\u001b[0;34m\u001b[0m\u001b[0m\n\u001b[0;32m---> 23\u001b[0;31m                 \u001b[0moutput\u001b[0m\u001b[0;34m[\u001b[0m\u001b[0mcolname\u001b[0m\u001b[0;34m]\u001b[0m \u001b[0;34m=\u001b[0m \u001b[0mLabelEncoder\u001b[0m\u001b[0;34m(\u001b[0m\u001b[0;34m)\u001b[0m\u001b[0;34m.\u001b[0m\u001b[0mfit_transform\u001b[0m\u001b[0;34m(\u001b[0m\u001b[0mcol\u001b[0m\u001b[0;34m)\u001b[0m\u001b[0;34m\u001b[0m\u001b[0;34m\u001b[0m\u001b[0m\n\u001b[0m\u001b[1;32m     24\u001b[0m         \u001b[0;32mreturn\u001b[0m \u001b[0moutput\u001b[0m\u001b[0;34m\u001b[0m\u001b[0;34m\u001b[0m\u001b[0m\n\u001b[1;32m     25\u001b[0m \u001b[0;34m\u001b[0m\u001b[0m\n",
>>>>>>> Stashed changes
      "\u001b[0;32m~/anaconda3/lib/python3.8/site-packages/sklearn/preprocessing/_label.py\u001b[0m in \u001b[0;36mfit_transform\u001b[0;34m(self, y)\u001b[0m\n\u001b[1;32m    254\u001b[0m         \"\"\"\n\u001b[1;32m    255\u001b[0m         \u001b[0my\u001b[0m \u001b[0;34m=\u001b[0m \u001b[0mcolumn_or_1d\u001b[0m\u001b[0;34m(\u001b[0m\u001b[0my\u001b[0m\u001b[0;34m,\u001b[0m \u001b[0mwarn\u001b[0m\u001b[0;34m=\u001b[0m\u001b[0;32mTrue\u001b[0m\u001b[0;34m)\u001b[0m\u001b[0;34m\u001b[0m\u001b[0;34m\u001b[0m\u001b[0m\n\u001b[0;32m--> 256\u001b[0;31m         \u001b[0mself\u001b[0m\u001b[0;34m.\u001b[0m\u001b[0mclasses_\u001b[0m\u001b[0;34m,\u001b[0m \u001b[0my\u001b[0m \u001b[0;34m=\u001b[0m \u001b[0m_encode\u001b[0m\u001b[0;34m(\u001b[0m\u001b[0my\u001b[0m\u001b[0;34m,\u001b[0m \u001b[0mencode\u001b[0m\u001b[0;34m=\u001b[0m\u001b[0;32mTrue\u001b[0m\u001b[0;34m)\u001b[0m\u001b[0;34m\u001b[0m\u001b[0;34m\u001b[0m\u001b[0m\n\u001b[0m\u001b[1;32m    257\u001b[0m         \u001b[0;32mreturn\u001b[0m \u001b[0my\u001b[0m\u001b[0;34m\u001b[0m\u001b[0;34m\u001b[0m\u001b[0m\n\u001b[1;32m    258\u001b[0m \u001b[0;34m\u001b[0m\u001b[0m\n",
      "\u001b[0;32m~/anaconda3/lib/python3.8/site-packages/sklearn/preprocessing/_label.py\u001b[0m in \u001b[0;36m_encode\u001b[0;34m(values, uniques, encode, check_unknown)\u001b[0m\n\u001b[1;32m    115\u001b[0m             types = sorted(t.__qualname__\n\u001b[1;32m    116\u001b[0m                            for t in set(type(v) for v in values))\n\u001b[0;32m--> 117\u001b[0;31m             raise TypeError(\"Encoders require their input to be uniformly \"\n\u001b[0m\u001b[1;32m    118\u001b[0m                             f\"strings or numbers. Got {types}\")\n\u001b[1;32m    119\u001b[0m         \u001b[0;32mreturn\u001b[0m \u001b[0mres\u001b[0m\u001b[0;34m\u001b[0m\u001b[0;34m\u001b[0m\u001b[0m\n",
      "\u001b[0;31mTypeError\u001b[0m: Encoders require their input to be uniformly strings or numbers. Got ['float', 'str']"
     ]
    }
   ],
   "source": [
    "df_cat = df[['C_ 1', 'C_ 2', 'C_ 3', 'C_ 4', 'C_ 5']]\n",
    "mask = df_cat.isnull()\n",
    "print(df_cat)\n",
    "df_cat_encoded = MultiColumnLabelEncoder().fit_transform(df_cat)\n",
    "df_cat_final = df_cat_encoded.where(~mask)"
   ]
  },
  {
   "cell_type": "code",
   "execution_count": 9,
   "metadata": {},
   "outputs": [
    {
     "name": "stderr",
     "output_type": "stream",
     "text": [
      "/home/catinthecap1864/anaconda3/lib/python3.8/site-packages/pandas/core/series.py:4563: SettingWithCopyWarning: \n",
      "A value is trying to be set on a copy of a slice from a DataFrame\n",
      "\n",
      "See the caveats in the documentation: https://pandas.pydata.org/pandas-docs/stable/user_guide/indexing.html#returning-a-view-versus-a-copy\n",
      "  return super().replace(\n"
     ]
    },
    {
     "data": {
      "text/html": [
       "<div>\n",
       "<style scoped>\n",
       "    .dataframe tbody tr th:only-of-type {\n",
       "        vertical-align: middle;\n",
       "    }\n",
       "\n",
       "    .dataframe tbody tr th {\n",
       "        vertical-align: top;\n",
       "    }\n",
       "\n",
       "    .dataframe thead th {\n",
       "        text-align: right;\n",
       "    }\n",
       "</style>\n",
       "<table border=\"1\" class=\"dataframe\">\n",
       "  <thead>\n",
       "    <tr style=\"text-align: right;\">\n",
       "      <th></th>\n",
       "      <th>C_ 1</th>\n",
       "      <th>C_ 2</th>\n",
       "      <th>C_ 3</th>\n",
       "      <th>C_ 4</th>\n",
       "      <th>C_ 5</th>\n",
       "    </tr>\n",
       "  </thead>\n",
       "  <tbody>\n",
       "    <tr>\n",
       "      <th>0</th>\n",
       "      <td>0.0</td>\n",
       "      <td>NaN</td>\n",
       "      <td>1.0</td>\n",
       "      <td>4.0</td>\n",
       "      <td>2.0</td>\n",
       "    </tr>\n",
       "    <tr>\n",
       "      <th>1</th>\n",
       "      <td>1.0</td>\n",
       "      <td>NaN</td>\n",
       "      <td>1.0</td>\n",
       "      <td>0.0</td>\n",
       "      <td>0.0</td>\n",
       "    </tr>\n",
       "    <tr>\n",
       "      <th>2</th>\n",
       "      <td>NaN</td>\n",
       "      <td>0.0</td>\n",
       "      <td>2.0</td>\n",
       "      <td>4.0</td>\n",
       "      <td>3.0</td>\n",
       "    </tr>\n",
       "    <tr>\n",
       "      <th>3</th>\n",
       "      <td>2.0</td>\n",
       "      <td>1.0</td>\n",
       "      <td>0.0</td>\n",
       "      <td>0.0</td>\n",
       "      <td>NaN</td>\n",
       "    </tr>\n",
       "    <tr>\n",
       "      <th>4</th>\n",
       "      <td>1.0</td>\n",
       "      <td>1.0</td>\n",
       "      <td>2.0</td>\n",
       "      <td>4.0</td>\n",
       "      <td>4.0</td>\n",
       "    </tr>\n",
       "    <tr>\n",
       "      <th>...</th>\n",
       "      <td>...</td>\n",
       "      <td>...</td>\n",
       "      <td>...</td>\n",
       "      <td>...</td>\n",
       "      <td>...</td>\n",
       "    </tr>\n",
       "    <tr>\n",
       "      <th>95</th>\n",
       "      <td>1.0</td>\n",
       "      <td>0.0</td>\n",
       "      <td>3.0</td>\n",
       "      <td>NaN</td>\n",
       "      <td>1.0</td>\n",
       "    </tr>\n",
       "    <tr>\n",
       "      <th>96</th>\n",
       "      <td>1.0</td>\n",
       "      <td>0.0</td>\n",
       "      <td>0.0</td>\n",
       "      <td>4.0</td>\n",
       "      <td>2.0</td>\n",
       "    </tr>\n",
       "    <tr>\n",
       "      <th>97</th>\n",
       "      <td>3.0</td>\n",
       "      <td>1.0</td>\n",
       "      <td>NaN</td>\n",
       "      <td>3.0</td>\n",
       "      <td>2.0</td>\n",
       "    </tr>\n",
       "    <tr>\n",
       "      <th>98</th>\n",
       "      <td>3.0</td>\n",
       "      <td>0.0</td>\n",
       "      <td>0.0</td>\n",
       "      <td>1.0</td>\n",
       "      <td>NaN</td>\n",
       "    </tr>\n",
       "    <tr>\n",
       "      <th>99</th>\n",
       "      <td>4.0</td>\n",
       "      <td>NaN</td>\n",
       "      <td>0.0</td>\n",
       "      <td>1.0</td>\n",
       "      <td>4.0</td>\n",
       "    </tr>\n",
       "  </tbody>\n",
       "</table>\n",
       "<p>100 rows × 5 columns</p>\n",
       "</div>"
      ],
      "text/plain": [
       "    C_ 1  C_ 2  C_ 3  C_ 4  C_ 5\n",
       "0    0.0   NaN   1.0   4.0   2.0\n",
       "1    1.0   NaN   1.0   0.0   0.0\n",
       "2    NaN   0.0   2.0   4.0   3.0\n",
       "3    2.0   1.0   0.0   0.0   NaN\n",
       "4    1.0   1.0   2.0   4.0   4.0\n",
       "..   ...   ...   ...   ...   ...\n",
       "95   1.0   0.0   3.0   NaN   1.0\n",
       "96   1.0   0.0   0.0   4.0   2.0\n",
       "97   3.0   1.0   NaN   3.0   2.0\n",
       "98   3.0   0.0   0.0   1.0   NaN\n",
       "99   4.0   NaN   0.0   1.0   4.0\n",
       "\n",
       "[100 rows x 5 columns]"
      ]
     },
     "execution_count": 9,
     "metadata": {},
     "output_type": "execute_result"
    }
   ],
   "source": [
    "df_cat = df[['C_ 1', 'C_ 2', 'C_ 3', 'C_ 4', 'C_ 5']]\n",
    "df_cat['C_ 1'].replace(['I','H','K','G','J'],[0,1,2,3,4],inplace=True)\n",
    "df_cat['C_ 2'].replace(['I','H','K','G','J'],[0,1,2,3,4],inplace=True)\n",
    "df_cat['C_ 3'].replace(['I','H','K','G','J'],[0,1,2,3,4],inplace=True)\n",
    "df_cat['C_ 4'].replace(['I','H','K','G','J'],[0,1,2,3,4],inplace=True)\n",
    "df_cat['C_ 5'].replace(['I','H','K','G','J'],[0,1,2,3,4],inplace=True)\n",
    "\n",
    "df_cat"
   ]
  },
  {
   "cell_type": "code",
   "execution_count": 10,
   "metadata": {},
   "outputs": [],
   "source": [
    "df_final = pd.concat([df_temp, df_cat], axis=1)"
   ]
  },
  {
   "cell_type": "code",
   "execution_count": 11,
   "metadata": {},
   "outputs": [
    {
     "data": {
      "text/html": [
       "<div>\n",
       "<style scoped>\n",
       "    .dataframe tbody tr th:only-of-type {\n",
       "        vertical-align: middle;\n",
       "    }\n",
       "\n",
       "    .dataframe tbody tr th {\n",
       "        vertical-align: top;\n",
       "    }\n",
       "\n",
       "    .dataframe thead th {\n",
       "        text-align: right;\n",
       "    }\n",
       "</style>\n",
       "<table border=\"1\" class=\"dataframe\">\n",
       "  <thead>\n",
       "    <tr style=\"text-align: right;\">\n",
       "      <th></th>\n",
       "      <th>0</th>\n",
       "      <th>1</th>\n",
       "      <th>2</th>\n",
       "      <th>3</th>\n",
       "      <th>4</th>\n",
       "      <th>5</th>\n",
       "      <th>6</th>\n",
       "      <th>7</th>\n",
       "      <th>8</th>\n",
       "      <th>9</th>\n",
       "      <th>...</th>\n",
       "      <th>90</th>\n",
       "      <th>91</th>\n",
       "      <th>92</th>\n",
       "      <th>93</th>\n",
       "      <th>94</th>\n",
       "      <th>C_ 1</th>\n",
       "      <th>C_ 2</th>\n",
       "      <th>C_ 3</th>\n",
       "      <th>C_ 4</th>\n",
       "      <th>C_ 5</th>\n",
       "    </tr>\n",
       "  </thead>\n",
       "  <tbody>\n",
       "    <tr>\n",
       "      <th>0</th>\n",
       "      <td>0.151775</td>\n",
       "      <td>2.423177e-02</td>\n",
       "      <td>-3.091373e-01</td>\n",
       "      <td>-0.779451</td>\n",
       "      <td>2.633208</td>\n",
       "      <td>0.159703</td>\n",
       "      <td>-0.674751</td>\n",
       "      <td>-9.778783e-01</td>\n",
       "      <td>4.012262e-01</td>\n",
       "      <td>0.000000</td>\n",
       "      <td>...</td>\n",
       "      <td>-1.788627e+00</td>\n",
       "      <td>0.149967</td>\n",
       "      <td>1.050006e-01</td>\n",
       "      <td>9.141523e-01</td>\n",
       "      <td>1.848409</td>\n",
       "      <td>0.0</td>\n",
       "      <td>NaN</td>\n",
       "      <td>1.0</td>\n",
       "      <td>4.0</td>\n",
       "      <td>2.0</td>\n",
       "    </tr>\n",
       "    <tr>\n",
       "      <th>1</th>\n",
       "      <td>0.544762</td>\n",
       "      <td>9.292057e-01</td>\n",
       "      <td>-2.900317e-01</td>\n",
       "      <td>0.000000</td>\n",
       "      <td>-0.351847</td>\n",
       "      <td>-0.691680</td>\n",
       "      <td>-0.672233</td>\n",
       "      <td>-1.219180e+00</td>\n",
       "      <td>1.412596e-16</td>\n",
       "      <td>-0.086371</td>\n",
       "      <td>...</td>\n",
       "      <td>-2.372718e-01</td>\n",
       "      <td>-0.989728</td>\n",
       "      <td>-1.971416e-01</td>\n",
       "      <td>-3.137293e-01</td>\n",
       "      <td>0.066727</td>\n",
       "      <td>1.0</td>\n",
       "      <td>NaN</td>\n",
       "      <td>1.0</td>\n",
       "      <td>0.0</td>\n",
       "      <td>0.0</td>\n",
       "    </tr>\n",
       "    <tr>\n",
       "      <th>2</th>\n",
       "      <td>1.278055</td>\n",
       "      <td>-9.949286e-01</td>\n",
       "      <td>-5.738851e-02</td>\n",
       "      <td>-0.220169</td>\n",
       "      <td>0.513496</td>\n",
       "      <td>0.000000</td>\n",
       "      <td>-0.157911</td>\n",
       "      <td>-3.742329e-16</td>\n",
       "      <td>-4.101947e-01</td>\n",
       "      <td>0.000000</td>\n",
       "      <td>...</td>\n",
       "      <td>-8.359376e-01</td>\n",
       "      <td>0.706132</td>\n",
       "      <td>-9.047969e-01</td>\n",
       "      <td>-1.141196e-01</td>\n",
       "      <td>-1.141872</td>\n",
       "      <td>NaN</td>\n",
       "      <td>0.0</td>\n",
       "      <td>2.0</td>\n",
       "      <td>4.0</td>\n",
       "      <td>3.0</td>\n",
       "    </tr>\n",
       "    <tr>\n",
       "      <th>3</th>\n",
       "      <td>-0.865020</td>\n",
       "      <td>-1.489857e+00</td>\n",
       "      <td>-1.299094e+00</td>\n",
       "      <td>-1.605829</td>\n",
       "      <td>-1.916585</td>\n",
       "      <td>0.000000</td>\n",
       "      <td>-1.212664</td>\n",
       "      <td>-1.984655e+00</td>\n",
       "      <td>-1.119098e+00</td>\n",
       "      <td>-1.238573</td>\n",
       "      <td>...</td>\n",
       "      <td>-3.440366e-01</td>\n",
       "      <td>-1.467337</td>\n",
       "      <td>-1.341701e-01</td>\n",
       "      <td>-1.415122e+00</td>\n",
       "      <td>-1.200271</td>\n",
       "      <td>2.0</td>\n",
       "      <td>1.0</td>\n",
       "      <td>0.0</td>\n",
       "      <td>0.0</td>\n",
       "      <td>NaN</td>\n",
       "    </tr>\n",
       "    <tr>\n",
       "      <th>4</th>\n",
       "      <td>-1.748431</td>\n",
       "      <td>-2.091603e-01</td>\n",
       "      <td>-7.712855e-01</td>\n",
       "      <td>-0.266385</td>\n",
       "      <td>0.000000</td>\n",
       "      <td>-1.728023</td>\n",
       "      <td>-0.368327</td>\n",
       "      <td>2.866552e-01</td>\n",
       "      <td>-1.244789e+00</td>\n",
       "      <td>0.000000</td>\n",
       "      <td>...</td>\n",
       "      <td>1.600735e-01</td>\n",
       "      <td>-0.788017</td>\n",
       "      <td>-1.322856e-01</td>\n",
       "      <td>-3.751964e-17</td>\n",
       "      <td>0.080949</td>\n",
       "      <td>1.0</td>\n",
       "      <td>1.0</td>\n",
       "      <td>2.0</td>\n",
       "      <td>4.0</td>\n",
       "      <td>4.0</td>\n",
       "    </tr>\n",
       "    <tr>\n",
       "      <th>...</th>\n",
       "      <td>...</td>\n",
       "      <td>...</td>\n",
       "      <td>...</td>\n",
       "      <td>...</td>\n",
       "      <td>...</td>\n",
       "      <td>...</td>\n",
       "      <td>...</td>\n",
       "      <td>...</td>\n",
       "      <td>...</td>\n",
       "      <td>...</td>\n",
       "      <td>...</td>\n",
       "      <td>...</td>\n",
       "      <td>...</td>\n",
       "      <td>...</td>\n",
       "      <td>...</td>\n",
       "      <td>...</td>\n",
       "      <td>...</td>\n",
       "      <td>...</td>\n",
       "      <td>...</td>\n",
       "      <td>...</td>\n",
       "      <td>...</td>\n",
       "    </tr>\n",
       "    <tr>\n",
       "      <th>95</th>\n",
       "      <td>1.443455</td>\n",
       "      <td>-3.393347e-16</td>\n",
       "      <td>9.124297e-01</td>\n",
       "      <td>-0.107139</td>\n",
       "      <td>-0.347021</td>\n",
       "      <td>0.910688</td>\n",
       "      <td>0.444991</td>\n",
       "      <td>2.839148e-01</td>\n",
       "      <td>-9.632194e-02</td>\n",
       "      <td>0.063814</td>\n",
       "      <td>...</td>\n",
       "      <td>-3.851624e-16</td>\n",
       "      <td>1.999145</td>\n",
       "      <td>4.225057e-01</td>\n",
       "      <td>1.168657e+00</td>\n",
       "      <td>0.238468</td>\n",
       "      <td>1.0</td>\n",
       "      <td>0.0</td>\n",
       "      <td>3.0</td>\n",
       "      <td>NaN</td>\n",
       "      <td>1.0</td>\n",
       "    </tr>\n",
       "    <tr>\n",
       "      <th>96</th>\n",
       "      <td>1.249981</td>\n",
       "      <td>7.059886e-01</td>\n",
       "      <td>7.026119e-16</td>\n",
       "      <td>-0.096153</td>\n",
       "      <td>1.157014</td>\n",
       "      <td>0.482888</td>\n",
       "      <td>0.000000</td>\n",
       "      <td>1.289273e+00</td>\n",
       "      <td>3.769109e-01</td>\n",
       "      <td>1.985915</td>\n",
       "      <td>...</td>\n",
       "      <td>8.393986e-01</td>\n",
       "      <td>1.997669</td>\n",
       "      <td>1.344681e+00</td>\n",
       "      <td>9.453820e-01</td>\n",
       "      <td>0.000000</td>\n",
       "      <td>1.0</td>\n",
       "      <td>0.0</td>\n",
       "      <td>0.0</td>\n",
       "      <td>4.0</td>\n",
       "      <td>2.0</td>\n",
       "    </tr>\n",
       "    <tr>\n",
       "      <th>97</th>\n",
       "      <td>-2.637507</td>\n",
       "      <td>-1.848711e+00</td>\n",
       "      <td>-1.963242e+00</td>\n",
       "      <td>-0.702099</td>\n",
       "      <td>-2.203628</td>\n",
       "      <td>-0.998792</td>\n",
       "      <td>-2.325449</td>\n",
       "      <td>-1.890926e+00</td>\n",
       "      <td>1.412596e-16</td>\n",
       "      <td>-3.007043</td>\n",
       "      <td>...</td>\n",
       "      <td>-3.520342e+00</td>\n",
       "      <td>-1.966111</td>\n",
       "      <td>-3.399251e-16</td>\n",
       "      <td>-1.731359e+00</td>\n",
       "      <td>-0.840026</td>\n",
       "      <td>3.0</td>\n",
       "      <td>1.0</td>\n",
       "      <td>NaN</td>\n",
       "      <td>3.0</td>\n",
       "      <td>2.0</td>\n",
       "    </tr>\n",
       "    <tr>\n",
       "      <th>98</th>\n",
       "      <td>0.213352</td>\n",
       "      <td>-1.437718e+00</td>\n",
       "      <td>-1.743412e-01</td>\n",
       "      <td>0.000000</td>\n",
       "      <td>0.000000</td>\n",
       "      <td>-0.099195</td>\n",
       "      <td>0.298492</td>\n",
       "      <td>3.807926e-01</td>\n",
       "      <td>6.573939e-01</td>\n",
       "      <td>0.000000</td>\n",
       "      <td>...</td>\n",
       "      <td>-5.864871e-01</td>\n",
       "      <td>-0.332279</td>\n",
       "      <td>8.931798e-01</td>\n",
       "      <td>-1.053548e+00</td>\n",
       "      <td>-1.393531</td>\n",
       "      <td>3.0</td>\n",
       "      <td>0.0</td>\n",
       "      <td>0.0</td>\n",
       "      <td>1.0</td>\n",
       "      <td>NaN</td>\n",
       "    </tr>\n",
       "    <tr>\n",
       "      <th>99</th>\n",
       "      <td>-0.690314</td>\n",
       "      <td>-7.975783e-01</td>\n",
       "      <td>-9.100110e-02</td>\n",
       "      <td>-1.154077</td>\n",
       "      <td>-1.193813</td>\n",
       "      <td>0.000000</td>\n",
       "      <td>-0.075747</td>\n",
       "      <td>-9.603404e-01</td>\n",
       "      <td>-7.970716e-01</td>\n",
       "      <td>1.247173</td>\n",
       "      <td>...</td>\n",
       "      <td>-3.851624e-16</td>\n",
       "      <td>-0.718197</td>\n",
       "      <td>-2.557203e+00</td>\n",
       "      <td>1.095340e-01</td>\n",
       "      <td>0.493677</td>\n",
       "      <td>4.0</td>\n",
       "      <td>NaN</td>\n",
       "      <td>0.0</td>\n",
       "      <td>1.0</td>\n",
       "      <td>4.0</td>\n",
       "    </tr>\n",
       "  </tbody>\n",
       "</table>\n",
       "<p>100 rows × 100 columns</p>\n",
       "</div>"
      ],
      "text/plain": [
       "           0             1             2         3         4         5  \\\n",
       "0   0.151775  2.423177e-02 -3.091373e-01 -0.779451  2.633208  0.159703   \n",
       "1   0.544762  9.292057e-01 -2.900317e-01  0.000000 -0.351847 -0.691680   \n",
       "2   1.278055 -9.949286e-01 -5.738851e-02 -0.220169  0.513496  0.000000   \n",
       "3  -0.865020 -1.489857e+00 -1.299094e+00 -1.605829 -1.916585  0.000000   \n",
       "4  -1.748431 -2.091603e-01 -7.712855e-01 -0.266385  0.000000 -1.728023   \n",
       "..       ...           ...           ...       ...       ...       ...   \n",
       "95  1.443455 -3.393347e-16  9.124297e-01 -0.107139 -0.347021  0.910688   \n",
       "96  1.249981  7.059886e-01  7.026119e-16 -0.096153  1.157014  0.482888   \n",
       "97 -2.637507 -1.848711e+00 -1.963242e+00 -0.702099 -2.203628 -0.998792   \n",
       "98  0.213352 -1.437718e+00 -1.743412e-01  0.000000  0.000000 -0.099195   \n",
       "99 -0.690314 -7.975783e-01 -9.100110e-02 -1.154077 -1.193813  0.000000   \n",
       "\n",
       "           6             7             8         9  ...            90  \\\n",
       "0  -0.674751 -9.778783e-01  4.012262e-01  0.000000  ... -1.788627e+00   \n",
       "1  -0.672233 -1.219180e+00  1.412596e-16 -0.086371  ... -2.372718e-01   \n",
       "2  -0.157911 -3.742329e-16 -4.101947e-01  0.000000  ... -8.359376e-01   \n",
       "3  -1.212664 -1.984655e+00 -1.119098e+00 -1.238573  ... -3.440366e-01   \n",
       "4  -0.368327  2.866552e-01 -1.244789e+00  0.000000  ...  1.600735e-01   \n",
       "..       ...           ...           ...       ...  ...           ...   \n",
       "95  0.444991  2.839148e-01 -9.632194e-02  0.063814  ... -3.851624e-16   \n",
       "96  0.000000  1.289273e+00  3.769109e-01  1.985915  ...  8.393986e-01   \n",
       "97 -2.325449 -1.890926e+00  1.412596e-16 -3.007043  ... -3.520342e+00   \n",
       "98  0.298492  3.807926e-01  6.573939e-01  0.000000  ... -5.864871e-01   \n",
       "99 -0.075747 -9.603404e-01 -7.970716e-01  1.247173  ... -3.851624e-16   \n",
       "\n",
       "          91            92            93        94  C_ 1  C_ 2  C_ 3  C_ 4  \\\n",
       "0   0.149967  1.050006e-01  9.141523e-01  1.848409   0.0   NaN   1.0   4.0   \n",
       "1  -0.989728 -1.971416e-01 -3.137293e-01  0.066727   1.0   NaN   1.0   0.0   \n",
       "2   0.706132 -9.047969e-01 -1.141196e-01 -1.141872   NaN   0.0   2.0   4.0   \n",
       "3  -1.467337 -1.341701e-01 -1.415122e+00 -1.200271   2.0   1.0   0.0   0.0   \n",
       "4  -0.788017 -1.322856e-01 -3.751964e-17  0.080949   1.0   1.0   2.0   4.0   \n",
       "..       ...           ...           ...       ...   ...   ...   ...   ...   \n",
       "95  1.999145  4.225057e-01  1.168657e+00  0.238468   1.0   0.0   3.0   NaN   \n",
       "96  1.997669  1.344681e+00  9.453820e-01  0.000000   1.0   0.0   0.0   4.0   \n",
       "97 -1.966111 -3.399251e-16 -1.731359e+00 -0.840026   3.0   1.0   NaN   3.0   \n",
       "98 -0.332279  8.931798e-01 -1.053548e+00 -1.393531   3.0   0.0   0.0   1.0   \n",
       "99 -0.718197 -2.557203e+00  1.095340e-01  0.493677   4.0   NaN   0.0   1.0   \n",
       "\n",
       "    C_ 5  \n",
       "0    2.0  \n",
       "1    0.0  \n",
       "2    3.0  \n",
       "3    NaN  \n",
       "4    4.0  \n",
       "..   ...  \n",
       "95   1.0  \n",
       "96   2.0  \n",
       "97   2.0  \n",
       "98   NaN  \n",
       "99   4.0  \n",
       "\n",
       "[100 rows x 100 columns]"
      ]
     },
     "execution_count": 11,
     "metadata": {},
     "output_type": "execute_result"
    }
   ],
   "source": [
    "df_final"
   ]
  },
  {
   "cell_type": "code",
   "execution_count": 12,
   "metadata": {},
   "outputs": [],
   "source": [
    "imputer = SimpleImputer(missing_values=np.nan, strategy='most_frequent')\n",
    "df_final = pd.DataFrame(imputer.fit_transform(df_final.values))"
   ]
  },
  {
   "cell_type": "code",
   "execution_count": 13,
   "metadata": {},
   "outputs": [
    {
     "data": {
      "text/plain": [
       "2.5901645466414404e-29"
      ]
     },
     "execution_count": 13,
     "metadata": {},
     "output_type": "execute_result"
    }
   ],
   "source": [
    "from sklearn.metrics import mean_squared_error as mse\n",
    "from sklearn.linear_model import LinearRegression\n",
    "lr = LinearRegression()\n",
    "lr_fit = lr.fit(df_final, y)\n",
    "y_pred = lr_fit.predict(df_final)\n",
    "mse(y, y_pred)"
   ]
  },
  {
   "cell_type": "code",
   "execution_count": 14,
   "metadata": {},
   "outputs": [
    {
     "data": {
      "text/plain": [
       "<matplotlib.legend.Legend at 0x7f9805a57d00>"
      ]
     },
     "execution_count": 14,
     "metadata": {},
     "output_type": "execute_result"
    },
    {
     "data": {
      "image/png": "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\n",
      "text/plain": [
       "<Figure size 432x288 with 1 Axes>"
      ]
     },
     "metadata": {
      "needs_background": "light"
     },
     "output_type": "display_data"
    }
   ],
   "source": [
    "plt.plot(y_pred, label = 'prediction')\n",
    "plt.plot(y, label = 'real values')\n",
    "plt.legend()"
   ]
  },
  {
   "cell_type": "code",
   "execution_count": null,
   "metadata": {},
   "outputs": [],
   "source": []
  }
 ],
 "metadata": {
  "kernelspec": {
   "display_name": "Python 3",
   "language": "python",
   "name": "python3"
  },
  "language_info": {
   "codemirror_mode": {
    "name": "ipython",
    "version": 3
   },
   "file_extension": ".py",
   "mimetype": "text/x-python",
   "name": "python",
   "nbconvert_exporter": "python",
   "pygments_lexer": "ipython3",
   "version": "3.8.5"
  },
  "vscode": {
   "interpreter": {
    "hash": "a2f6c66c89ad4c8419177551668bc68e5b63841305411eba2146a4407b0a55c3"
   }
  }
 },
 "nbformat": 4,
 "nbformat_minor": 2
}
