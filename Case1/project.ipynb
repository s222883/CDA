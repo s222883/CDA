{
 "cells": [
  {
   "cell_type": "code",
   "execution_count": 1,
   "metadata": {},
   "outputs": [],
   "source": [
    "%load_ext autoreload\n",
    "%autoreload 2"
   ]
  },
  {
   "cell_type": "code",
   "execution_count": 28,
   "metadata": {},
   "outputs": [],
   "source": [
    "from data_cleaning import *\n",
    "import pandas as pd\n",
    "import numpy as np\n",
    "from sklearn.preprocessing import LabelEncoder\n",
    "from sklearn.model_selection import train_test_split, KFold\n",
    "from sklearn.preprocessing import StandardScaler\n",
    "from sklearn.metrics import mean_squared_error as mse\n",
    "import matplotlib.pyplot as plt\n",
    "import seaborn as sb\n",
    "from scipy import stats\n",
    "from sklearn.model_selection import ParameterGrid\n",
    "from scipy.stats import pearsonr\n",
    "from tqdm import tqdm"
   ]
  },
  {
   "cell_type": "code",
   "execution_count": 40,
   "metadata": {},
   "outputs": [],
   "source": [
    "def dataset_creator(methods, models_names: list, columns_names: list, k1: int):\n",
    "    header = pd.MultiIndex.from_product([methods, models_names, columns_names])\n",
    "    df = pd.DataFrame(columns=header)\n",
    "    df['KFold'] = np.arange(1, k1+1)\n",
    "    df.set_index('KFold', inplace=True)\n",
    "    return df\n",
    "\n",
    "def twolevelcv(df, k1: int, k2: int, models: list, params: dict, rs: int, fill_methods: list, std_method: str):\n",
    "    \"\"\"Allows to compute two level crossvalidation.\n",
    "\n",
    "    Args:\n",
    "        X (np.array): Features (numeric)\n",
    "        y (np.array): Class (objective variable)\n",
    "        k1 (int): Nº of outer folds\n",
    "        k2 (int): Nº of inner folds\n",
    "        models (list): List of models for comparison\n",
    "        params (dict): Dictionary including the set of parameters. In this case we only tune 1 parameter per model.\n",
    "        rs (int): Random state\n",
    "    Returns:\n",
    "        df: Dataframe\n",
    "    \"\"\"\n",
    "    test_error_dict = {}\n",
    "    k = 0\n",
    "    names = [type(m).__name__ for m in models]\n",
    "    col_names = ['Param. Value', 'Error']\n",
    "    results_df = dataset_creator(fill_methods, names, col_names, k1)\n",
    "    kf1 = KFold(k1, shuffle = True, random_state=rs)\n",
    "    X_raw = df.drop('y', axis=1)\n",
    "    y = df['y']\n",
    "    # first level split\n",
    "    for train_idx1, test_idx1 in kf1.split(X_raw, y):\n",
    "        k += 1\n",
    "        kf2 = KFold(k2, shuffle = True, random_state=rs)\n",
    "        print(f'Computing KFold {k}/{k1}...')\n",
    "        # second level split\n",
    "        for train_idx2, test_idx2 in tqdm(kf2.split(X_raw.iloc[train_idx1, :], y[train_idx1]), total = k2):\n",
    "            for method in fill_methods:\n",
    "                X_train = transform_data(X_raw.iloc[train_idx2, :], fill_method=method, std_method=std_method).values\n",
    "                y_train = y[train_idx2]\n",
    "                X_test = transform_data(X_raw, fill_method=method, std_method=std_method).iloc[test_idx2, :].values\n",
    "                y_test = y[test_idx2]\n",
    "                for name, model in zip(names, models):\n",
    "                    grid = ParameterGrid(params[name])\n",
    "                    error_test = []\n",
    "                    for p_ in grid:\n",
    "                        model = model.set_params(**p_)\n",
    "                        # train the model\n",
    "                        model.fit(X_train, y_train)\n",
    "                        # evaluate performance\n",
    "                        pred2_test = model.predict(X_test)\n",
    "                        error_test.append(mse(y_test, pred2_test, squared=False))\n",
    "                    idx = np.argmin(error_test)\n",
    "                    min_param = grid[idx]\n",
    "                    results_df.loc(axis = 1)[method, name, 'Error'][k] = error_test[idx]\n",
    "                    results_df.loc(axis = 1)[method, name, 'Param. Value'][k] = min_param\n",
    "    return results_df, test_idx1"
   ]
  },
  {
   "attachments": {},
   "cell_type": "markdown",
   "metadata": {},
   "source": [
    "### **Data flow**"
   ]
  },
  {
   "cell_type": "code",
   "execution_count": 41,
   "metadata": {},
   "outputs": [],
   "source": [
    "# std_methods = ['standard', 'minmax', 'maxabs', 'robust']"
   ]
  },
  {
   "cell_type": "code",
   "execution_count": 42,
   "metadata": {},
   "outputs": [
    {
     "name": "stdout",
     "output_type": "stream",
     "text": [
      "Computing KFold 1/10...\n"
     ]
    },
    {
     "name": "stderr",
     "output_type": "stream",
     "text": [
      "100%|██████████| 10/10 [00:01<00:00,  5.17it/s]\n"
     ]
    },
    {
     "name": "stdout",
     "output_type": "stream",
     "text": [
      "Computing KFold 2/10...\n"
     ]
    },
    {
     "name": "stderr",
     "output_type": "stream",
     "text": [
      "100%|██████████| 10/10 [00:01<00:00,  5.18it/s]\n"
     ]
    },
    {
     "name": "stdout",
     "output_type": "stream",
     "text": [
      "Computing KFold 3/10...\n"
     ]
    },
    {
     "name": "stderr",
     "output_type": "stream",
     "text": [
      "100%|██████████| 10/10 [00:02<00:00,  4.71it/s]\n"
     ]
    },
    {
     "name": "stdout",
     "output_type": "stream",
     "text": [
      "Computing KFold 4/10...\n"
     ]
    },
    {
     "name": "stderr",
     "output_type": "stream",
     "text": [
      "100%|██████████| 10/10 [00:02<00:00,  4.83it/s]\n"
     ]
    },
    {
     "name": "stdout",
     "output_type": "stream",
     "text": [
      "Computing KFold 5/10...\n"
     ]
    },
    {
     "name": "stderr",
     "output_type": "stream",
     "text": [
      "100%|██████████| 10/10 [00:01<00:00,  5.05it/s]\n"
     ]
    },
    {
     "name": "stdout",
     "output_type": "stream",
     "text": [
      "Computing KFold 6/10...\n"
     ]
    },
    {
     "name": "stderr",
     "output_type": "stream",
     "text": [
      "100%|██████████| 10/10 [00:01<00:00,  5.18it/s]\n"
     ]
    },
    {
     "name": "stdout",
     "output_type": "stream",
     "text": [
      "Computing KFold 7/10...\n"
     ]
    },
    {
     "name": "stderr",
     "output_type": "stream",
     "text": [
      "100%|██████████| 10/10 [00:01<00:00,  5.02it/s]\n"
     ]
    },
    {
     "name": "stdout",
     "output_type": "stream",
     "text": [
      "Computing KFold 8/10...\n"
     ]
    },
    {
     "name": "stderr",
     "output_type": "stream",
     "text": [
      "100%|██████████| 10/10 [00:01<00:00,  5.53it/s]\n"
     ]
    },
    {
     "name": "stdout",
     "output_type": "stream",
     "text": [
      "Computing KFold 9/10...\n"
     ]
    },
    {
     "name": "stderr",
     "output_type": "stream",
     "text": [
      "100%|██████████| 10/10 [00:01<00:00,  5.53it/s]\n"
     ]
    },
    {
     "name": "stdout",
     "output_type": "stream",
     "text": [
      "Computing KFold 10/10...\n"
     ]
    },
    {
     "name": "stderr",
     "output_type": "stream",
     "text": [
      "100%|██████████| 10/10 [00:02<00:00,  4.33it/s]\n"
     ]
    }
   ],
   "source": [
    "import numpy as np\n",
    "from sklearn.linear_model import LinearRegression, Ridge\n",
    "from sklearn.dummy import DummyRegressor\n",
    "\n",
    "\n",
    "df_raw, df_Xn_raw = load_data()\n",
    "fill_methods = ['mean', 'median']\n",
    "random_state = 3\n",
    "params = {}\n",
    "lam = np.logspace(-2, 4, 10)\n",
    "# C = [200000000, 10000000, 0.1519911082952933, 0.2848035868435805 ]\n",
    "params['DummyRegressor'] = {'strategy': ['mean', 'median']}\n",
    "params['LinearRegression'] = {'fit_intercept': [True, False]}\n",
    "params['Ridge'] = {'alpha': lam, 'fit_intercept': [True, False]}\n",
    "models = [DummyRegressor(),\n",
    "          LinearRegression(),\n",
    "          Ridge(random_state=random_state)]\n",
    "k1 = 10\n",
    "k2 = 10\n",
    "Table, test_set_outer = twolevelcv(df_raw, k1=k1, k2=k2, models=models, params=params, rs=random_state, fill_methods=fill_methods, std_method= 'standard')"
   ]
  },
  {
   "cell_type": "code",
   "execution_count": 43,
   "metadata": {},
   "outputs": [
    {
     "data": {
      "text/html": [
       "<div>\n",
       "<style scoped>\n",
       "    .dataframe tbody tr th:only-of-type {\n",
       "        vertical-align: middle;\n",
       "    }\n",
       "\n",
       "    .dataframe tbody tr th {\n",
       "        vertical-align: top;\n",
       "    }\n",
       "\n",
       "    .dataframe thead tr th {\n",
       "        text-align: left;\n",
       "    }\n",
       "\n",
       "    .dataframe thead tr:last-of-type th {\n",
       "        text-align: right;\n",
       "    }\n",
       "</style>\n",
       "<table border=\"1\" class=\"dataframe\">\n",
       "  <thead>\n",
       "    <tr>\n",
       "      <th></th>\n",
       "      <th colspan=\"6\" halign=\"left\">mean</th>\n",
       "      <th colspan=\"6\" halign=\"left\">median</th>\n",
       "    </tr>\n",
       "    <tr>\n",
       "      <th></th>\n",
       "      <th colspan=\"2\" halign=\"left\">DummyRegressor</th>\n",
       "      <th colspan=\"2\" halign=\"left\">LinearRegression</th>\n",
       "      <th colspan=\"2\" halign=\"left\">Ridge</th>\n",
       "      <th colspan=\"2\" halign=\"left\">DummyRegressor</th>\n",
       "      <th colspan=\"2\" halign=\"left\">LinearRegression</th>\n",
       "      <th colspan=\"2\" halign=\"left\">Ridge</th>\n",
       "    </tr>\n",
       "    <tr>\n",
       "      <th></th>\n",
       "      <th>Param. Value</th>\n",
       "      <th>Error</th>\n",
       "      <th>Param. Value</th>\n",
       "      <th>Error</th>\n",
       "      <th>Param. Value</th>\n",
       "      <th>Error</th>\n",
       "      <th>Param. Value</th>\n",
       "      <th>Error</th>\n",
       "      <th>Param. Value</th>\n",
       "      <th>Error</th>\n",
       "      <th>Param. Value</th>\n",
       "      <th>Error</th>\n",
       "    </tr>\n",
       "    <tr>\n",
       "      <th>KFold</th>\n",
       "      <th></th>\n",
       "      <th></th>\n",
       "      <th></th>\n",
       "      <th></th>\n",
       "      <th></th>\n",
       "      <th></th>\n",
       "      <th></th>\n",
       "      <th></th>\n",
       "      <th></th>\n",
       "      <th></th>\n",
       "      <th></th>\n",
       "      <th></th>\n",
       "    </tr>\n",
       "  </thead>\n",
       "  <tbody>\n",
       "    <tr>\n",
       "      <th>1</th>\n",
       "      <td>{'strategy': 'mean'}</td>\n",
       "      <td>22.852697</td>\n",
       "      <td>{'fit_intercept': False}</td>\n",
       "      <td>62.348789</td>\n",
       "      <td>{'fit_intercept': True, 'alpha': 100.0}</td>\n",
       "      <td>13.336815</td>\n",
       "      <td>{'strategy': 'mean'}</td>\n",
       "      <td>22.852697</td>\n",
       "      <td>{'fit_intercept': True}</td>\n",
       "      <td>61.077778</td>\n",
       "      <td>{'fit_intercept': True, 'alpha': 100.0}</td>\n",
       "      <td>13.200254</td>\n",
       "    </tr>\n",
       "    <tr>\n",
       "      <th>2</th>\n",
       "      <td>{'strategy': 'mean'}</td>\n",
       "      <td>22.852697</td>\n",
       "      <td>{'fit_intercept': False}</td>\n",
       "      <td>62.348789</td>\n",
       "      <td>{'fit_intercept': True, 'alpha': 100.0}</td>\n",
       "      <td>13.336815</td>\n",
       "      <td>{'strategy': 'mean'}</td>\n",
       "      <td>22.852697</td>\n",
       "      <td>{'fit_intercept': True}</td>\n",
       "      <td>61.077778</td>\n",
       "      <td>{'fit_intercept': True, 'alpha': 100.0}</td>\n",
       "      <td>13.200254</td>\n",
       "    </tr>\n",
       "    <tr>\n",
       "      <th>3</th>\n",
       "      <td>{'strategy': 'mean'}</td>\n",
       "      <td>22.852697</td>\n",
       "      <td>{'fit_intercept': False}</td>\n",
       "      <td>62.348789</td>\n",
       "      <td>{'fit_intercept': True, 'alpha': 100.0}</td>\n",
       "      <td>13.336815</td>\n",
       "      <td>{'strategy': 'mean'}</td>\n",
       "      <td>22.852697</td>\n",
       "      <td>{'fit_intercept': True}</td>\n",
       "      <td>61.077778</td>\n",
       "      <td>{'fit_intercept': True, 'alpha': 100.0}</td>\n",
       "      <td>13.200254</td>\n",
       "    </tr>\n",
       "    <tr>\n",
       "      <th>4</th>\n",
       "      <td>{'strategy': 'mean'}</td>\n",
       "      <td>22.852697</td>\n",
       "      <td>{'fit_intercept': False}</td>\n",
       "      <td>62.348789</td>\n",
       "      <td>{'fit_intercept': True, 'alpha': 100.0}</td>\n",
       "      <td>13.336815</td>\n",
       "      <td>{'strategy': 'mean'}</td>\n",
       "      <td>22.852697</td>\n",
       "      <td>{'fit_intercept': True}</td>\n",
       "      <td>61.077778</td>\n",
       "      <td>{'fit_intercept': True, 'alpha': 100.0}</td>\n",
       "      <td>13.200254</td>\n",
       "    </tr>\n",
       "    <tr>\n",
       "      <th>5</th>\n",
       "      <td>{'strategy': 'mean'}</td>\n",
       "      <td>22.852697</td>\n",
       "      <td>{'fit_intercept': False}</td>\n",
       "      <td>62.348789</td>\n",
       "      <td>{'fit_intercept': True, 'alpha': 100.0}</td>\n",
       "      <td>13.336815</td>\n",
       "      <td>{'strategy': 'mean'}</td>\n",
       "      <td>22.852697</td>\n",
       "      <td>{'fit_intercept': True}</td>\n",
       "      <td>61.077778</td>\n",
       "      <td>{'fit_intercept': True, 'alpha': 100.0}</td>\n",
       "      <td>13.200254</td>\n",
       "    </tr>\n",
       "    <tr>\n",
       "      <th>6</th>\n",
       "      <td>{'strategy': 'mean'}</td>\n",
       "      <td>22.852697</td>\n",
       "      <td>{'fit_intercept': False}</td>\n",
       "      <td>62.348789</td>\n",
       "      <td>{'fit_intercept': True, 'alpha': 100.0}</td>\n",
       "      <td>13.336815</td>\n",
       "      <td>{'strategy': 'mean'}</td>\n",
       "      <td>22.852697</td>\n",
       "      <td>{'fit_intercept': True}</td>\n",
       "      <td>61.077778</td>\n",
       "      <td>{'fit_intercept': True, 'alpha': 100.0}</td>\n",
       "      <td>13.200254</td>\n",
       "    </tr>\n",
       "    <tr>\n",
       "      <th>7</th>\n",
       "      <td>{'strategy': 'mean'}</td>\n",
       "      <td>22.852697</td>\n",
       "      <td>{'fit_intercept': False}</td>\n",
       "      <td>62.348789</td>\n",
       "      <td>{'fit_intercept': True, 'alpha': 100.0}</td>\n",
       "      <td>13.336815</td>\n",
       "      <td>{'strategy': 'mean'}</td>\n",
       "      <td>22.852697</td>\n",
       "      <td>{'fit_intercept': True}</td>\n",
       "      <td>61.077778</td>\n",
       "      <td>{'fit_intercept': True, 'alpha': 100.0}</td>\n",
       "      <td>13.200254</td>\n",
       "    </tr>\n",
       "    <tr>\n",
       "      <th>8</th>\n",
       "      <td>{'strategy': 'mean'}</td>\n",
       "      <td>22.852697</td>\n",
       "      <td>{'fit_intercept': False}</td>\n",
       "      <td>62.348789</td>\n",
       "      <td>{'fit_intercept': True, 'alpha': 100.0}</td>\n",
       "      <td>13.336815</td>\n",
       "      <td>{'strategy': 'mean'}</td>\n",
       "      <td>22.852697</td>\n",
       "      <td>{'fit_intercept': True}</td>\n",
       "      <td>61.077778</td>\n",
       "      <td>{'fit_intercept': True, 'alpha': 100.0}</td>\n",
       "      <td>13.200254</td>\n",
       "    </tr>\n",
       "    <tr>\n",
       "      <th>9</th>\n",
       "      <td>{'strategy': 'mean'}</td>\n",
       "      <td>22.852697</td>\n",
       "      <td>{'fit_intercept': False}</td>\n",
       "      <td>62.348789</td>\n",
       "      <td>{'fit_intercept': True, 'alpha': 100.0}</td>\n",
       "      <td>13.336815</td>\n",
       "      <td>{'strategy': 'mean'}</td>\n",
       "      <td>22.852697</td>\n",
       "      <td>{'fit_intercept': True}</td>\n",
       "      <td>61.077778</td>\n",
       "      <td>{'fit_intercept': True, 'alpha': 100.0}</td>\n",
       "      <td>13.200254</td>\n",
       "    </tr>\n",
       "    <tr>\n",
       "      <th>10</th>\n",
       "      <td>{'strategy': 'mean'}</td>\n",
       "      <td>22.852697</td>\n",
       "      <td>{'fit_intercept': False}</td>\n",
       "      <td>62.348789</td>\n",
       "      <td>{'fit_intercept': True, 'alpha': 100.0}</td>\n",
       "      <td>13.336815</td>\n",
       "      <td>{'strategy': 'mean'}</td>\n",
       "      <td>22.852697</td>\n",
       "      <td>{'fit_intercept': True}</td>\n",
       "      <td>61.077778</td>\n",
       "      <td>{'fit_intercept': True, 'alpha': 100.0}</td>\n",
       "      <td>13.200254</td>\n",
       "    </tr>\n",
       "  </tbody>\n",
       "</table>\n",
       "</div>"
      ],
      "text/plain": [
       "                       mean                                                  \\\n",
       "             DummyRegressor                     LinearRegression              \n",
       "               Param. Value      Error              Param. Value      Error   \n",
       "KFold                                                                         \n",
       "1      {'strategy': 'mean'}  22.852697  {'fit_intercept': False}  62.348789   \n",
       "2      {'strategy': 'mean'}  22.852697  {'fit_intercept': False}  62.348789   \n",
       "3      {'strategy': 'mean'}  22.852697  {'fit_intercept': False}  62.348789   \n",
       "4      {'strategy': 'mean'}  22.852697  {'fit_intercept': False}  62.348789   \n",
       "5      {'strategy': 'mean'}  22.852697  {'fit_intercept': False}  62.348789   \n",
       "6      {'strategy': 'mean'}  22.852697  {'fit_intercept': False}  62.348789   \n",
       "7      {'strategy': 'mean'}  22.852697  {'fit_intercept': False}  62.348789   \n",
       "8      {'strategy': 'mean'}  22.852697  {'fit_intercept': False}  62.348789   \n",
       "9      {'strategy': 'mean'}  22.852697  {'fit_intercept': False}  62.348789   \n",
       "10     {'strategy': 'mean'}  22.852697  {'fit_intercept': False}  62.348789   \n",
       "\n",
       "                                                           \\\n",
       "                                         Ridge              \n",
       "                                  Param. Value      Error   \n",
       "KFold                                                       \n",
       "1      {'fit_intercept': True, 'alpha': 100.0}  13.336815   \n",
       "2      {'fit_intercept': True, 'alpha': 100.0}  13.336815   \n",
       "3      {'fit_intercept': True, 'alpha': 100.0}  13.336815   \n",
       "4      {'fit_intercept': True, 'alpha': 100.0}  13.336815   \n",
       "5      {'fit_intercept': True, 'alpha': 100.0}  13.336815   \n",
       "6      {'fit_intercept': True, 'alpha': 100.0}  13.336815   \n",
       "7      {'fit_intercept': True, 'alpha': 100.0}  13.336815   \n",
       "8      {'fit_intercept': True, 'alpha': 100.0}  13.336815   \n",
       "9      {'fit_intercept': True, 'alpha': 100.0}  13.336815   \n",
       "10     {'fit_intercept': True, 'alpha': 100.0}  13.336815   \n",
       "\n",
       "                     median                                                 \\\n",
       "             DummyRegressor                    LinearRegression              \n",
       "               Param. Value      Error             Param. Value      Error   \n",
       "KFold                                                                        \n",
       "1      {'strategy': 'mean'}  22.852697  {'fit_intercept': True}  61.077778   \n",
       "2      {'strategy': 'mean'}  22.852697  {'fit_intercept': True}  61.077778   \n",
       "3      {'strategy': 'mean'}  22.852697  {'fit_intercept': True}  61.077778   \n",
       "4      {'strategy': 'mean'}  22.852697  {'fit_intercept': True}  61.077778   \n",
       "5      {'strategy': 'mean'}  22.852697  {'fit_intercept': True}  61.077778   \n",
       "6      {'strategy': 'mean'}  22.852697  {'fit_intercept': True}  61.077778   \n",
       "7      {'strategy': 'mean'}  22.852697  {'fit_intercept': True}  61.077778   \n",
       "8      {'strategy': 'mean'}  22.852697  {'fit_intercept': True}  61.077778   \n",
       "9      {'strategy': 'mean'}  22.852697  {'fit_intercept': True}  61.077778   \n",
       "10     {'strategy': 'mean'}  22.852697  {'fit_intercept': True}  61.077778   \n",
       "\n",
       "                                                           \n",
       "                                         Ridge             \n",
       "                                  Param. Value      Error  \n",
       "KFold                                                      \n",
       "1      {'fit_intercept': True, 'alpha': 100.0}  13.200254  \n",
       "2      {'fit_intercept': True, 'alpha': 100.0}  13.200254  \n",
       "3      {'fit_intercept': True, 'alpha': 100.0}  13.200254  \n",
       "4      {'fit_intercept': True, 'alpha': 100.0}  13.200254  \n",
       "5      {'fit_intercept': True, 'alpha': 100.0}  13.200254  \n",
       "6      {'fit_intercept': True, 'alpha': 100.0}  13.200254  \n",
       "7      {'fit_intercept': True, 'alpha': 100.0}  13.200254  \n",
       "8      {'fit_intercept': True, 'alpha': 100.0}  13.200254  \n",
       "9      {'fit_intercept': True, 'alpha': 100.0}  13.200254  \n",
       "10     {'fit_intercept': True, 'alpha': 100.0}  13.200254  "
      ]
     },
     "execution_count": 43,
     "metadata": {},
     "output_type": "execute_result"
    }
   ],
   "source": [
    "Table"
   ]
  },
  {
   "cell_type": "code",
   "execution_count": null,
   "metadata": {},
   "outputs": [],
   "source": []
  }
 ],
 "metadata": {
  "kernelspec": {
   "display_name": "ML",
   "language": "python",
   "name": "python3"
  },
  "language_info": {
   "codemirror_mode": {
    "name": "ipython",
    "version": 3
   },
   "file_extension": ".py",
   "mimetype": "text/x-python",
   "name": "python",
   "nbconvert_exporter": "python",
   "pygments_lexer": "ipython3",
   "version": "3.8.13"
  },
  "orig_nbformat": 4
 },
 "nbformat": 4,
 "nbformat_minor": 2
}
