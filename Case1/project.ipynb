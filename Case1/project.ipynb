{
 "cells": [
  {
   "cell_type": "code",
   "execution_count": 1,
   "metadata": {},
   "outputs": [],
   "source": [
    "%load_ext autoreload\n",
    "%autoreload 2"
   ]
  },
  {
   "cell_type": "code",
   "execution_count": 2,
   "metadata": {},
   "outputs": [],
   "source": [
    "from data_cleaning import *\n",
    "import pandas as pd\n",
    "import numpy as np\n",
    "from sklearn.preprocessing import LabelEncoder\n",
    "from sklearn.model_selection import train_test_split, KFold\n",
    "from sklearn.preprocessing import StandardScaler\n",
    "from sklearn.metrics import mean_squared_error as mse\n",
    "import matplotlib.pyplot as plt\n",
    "import seaborn as sb\n",
    "from scipy import stats\n",
    "from sklearn.model_selection import ParameterGrid\n",
    "from scipy.stats import pearsonr\n",
    "from tqdm import tqdm\n",
    "import itertools"
   ]
  },
  {
   "cell_type": "code",
   "execution_count": 15,
   "metadata": {},
   "outputs": [],
   "source": [
    "def dataset_creator(methods, models_names: list, columns_names: list, k1: int):\n",
    "    header = pd.MultiIndex.from_product([methods, models_names, columns_names])\n",
    "    df = pd.DataFrame(columns=header)\n",
    "    df['KFold'] = np.arange(1, k1+1)\n",
    "    df.set_index('KFold', inplace=True)\n",
    "    return df\n",
    "\n",
    "def twolevelcv(df, k1: int, k2: int, models: list, params: dict, rs: int, fill_methods: list, std_method: list):\n",
    "    \"\"\"Allows to compute two level crossvalidation.\n",
    "\n",
    "    Args:\n",
    "        X (np.array): Features (numeric)\n",
    "        y (np.array): Class (objective variable)\n",
    "        k1 (int): Nº of outer folds\n",
    "        k2 (int): Nº of inner folds\n",
    "        models (list): List of models for comparison\n",
    "        params (dict): Dictionary including the set of parameters. In this case we only tune 1 parameter per model.\n",
    "        rs (int): Random state\n",
    "    Returns:\n",
    "        df: Dataframe\n",
    "    \"\"\"\n",
    "    k = 0\n",
    "    min_error = np.inf\n",
    "    min_param = None\n",
    "    names = [type(m).__name__ for m in models]\n",
    "    col_names = ['Param. Value', 'Error']\n",
    "    results_df = dataset_creator(fill_methods, names, col_names, k1)\n",
    "    kf1 = KFold(k1, shuffle = True, random_state=rs)\n",
    "    X_raw = df.drop('y', axis=1)\n",
    "    y = df['y']\n",
    "    combs = list(itertools.product(fill_methods,std_method,zip(names,models)))\n",
    "    it_combs = len(combs)\n",
    "    \n",
    "    best_fill = [0]*k1\n",
    "    best_std = [0]*k1\n",
    "    best_name_model = [0]*k1\n",
    "    errors_out = [0]*k1\n",
    "    \n",
    "    # first level split\n",
    "    for z,(train_idx1, test_idx1) in enumerate(kf1.split(X_raw, y)):\n",
    "        error_test = {}\n",
    "        k += 1\n",
    "        kf2 = KFold(k2, shuffle = True, random_state=rs)\n",
    "        print(f'Computing KFold {k}/{k1}...')\n",
    "        err = [[] for pp in range(it_combs)]\n",
    "        # second level split\n",
    "        for train_idx2, test_idx2 in tqdm(kf2.split(X_raw.iloc[train_idx1, :], y[train_idx1]), total = k2):\n",
    "            for i in range(it_combs):\n",
    "                method = combs[i][0]\n",
    "                std_method = combs[i][1]\n",
    "                name,model = combs[i][2]\n",
    "                X_train,X_test = transform_data(X_raw.iloc[train_idx2, :],X_raw.iloc[test_idx2, :] \\\n",
    "                                                , fill_method=method, std_method=std_method)\n",
    "                y_train = y[train_idx2]\n",
    "                y_test = y[test_idx2]\n",
    "                grid = list(ParameterGrid(params[name]))\n",
    "                n_p = len(grid)\n",
    "                if err[i] == []:\n",
    "                    err[i] = [0]*n_p\n",
    "                for j in range(n_p):\n",
    "                    p_ = grid[j]\n",
    "                    model = model.set_params(**p_)\n",
    "                    # train the model\n",
    "                    model.fit(X_train, y_train)\n",
    "                    # evaluate performance\n",
    "                    pred2_test = model.predict(X_test)\n",
    "                    error = mse(pred2_test, y_test,squared = False)\n",
    "                    err[i][j] += error*len(test_idx2)/len(train_idx1)\n",
    "        # inner cv has finished, choose model and param\n",
    "        best_err = np.inf\n",
    "        i_best = None\n",
    "        j_best = None\n",
    "        for i in range(it_combs):\n",
    "            name,model = combs[i][2]\n",
    "            for j in range(len(err[i])):\n",
    "                if name == \"LinearRegression\":\n",
    "                    print(err[i][j])\n",
    "                if err[i][j] < best_err:\n",
    "                    i_best = i\n",
    "                    j_best = j\n",
    "                    best_err = err[i][j]\n",
    "        method = combs[i_best][0]\n",
    "        std_method = combs[i_best][1]\n",
    "        name,model = combs[i_best][2]\n",
    "        grid = list(ParameterGrid(params[name]))\n",
    "        p_ = grid[j_best]\n",
    "        model = model.set_params(**p_)\n",
    "\n",
    "        X_tr,X_te = transform_data(X_raw.iloc[train_idx1, :], X_raw.iloc[test_idx1, :],  \\\n",
    "                                   fill_method=method, std_method=std_method)\n",
    "        y_te = y[test_idx1]\n",
    "        y_tr = y[train_idx1]\n",
    "        model.fit(X_tr,y_tr)\n",
    "        pred = model.predict(X_te)\n",
    "        error = mse(pred,y_te,squared = False)\n",
    "        \n",
    "        best_fill[z] = method\n",
    "        best_std[z] = std_method\n",
    "        best_name_model[z] = (name,model)\n",
    "        print(f\"fill method: {method}, std_method: {std_method}, model: {name} with parameter: {p_}\")\n",
    "        print(f\"error: {error}\")\n",
    "        errors_out[z] = error\n",
    "    # results_df.loc(axis = 1)[method, name, 'Error'][k] = error_test[idx]\n",
    "    # results_df.loc(axis = 1)[method, name, 'Param. Value'][k] = min_param\n",
    "    return best_fill,best_std,best_name_model,errors_out"
   ]
  },
  {
   "cell_type": "markdown",
   "metadata": {},
   "source": [
    "### **Data flow**"
   ]
  },
  {
   "cell_type": "code",
   "execution_count": 5,
   "metadata": {},
   "outputs": [],
   "source": [
    "# std_methods = ['standard', 'minmax', 'maxabs', 'robust']"
   ]
  },
  {
   "cell_type": "code",
   "execution_count": 16,
   "metadata": {
    "scrolled": false
   },
   "outputs": [
    {
     "name": "stdout",
     "output_type": "stream",
     "text": [
      "Computing KFold 1/5...\n"
     ]
    },
    {
     "name": "stderr",
     "output_type": "stream",
     "text": [
      "100%|█████████████████████████████████████████████| 5/5 [03:22<00:00, 40.57s/it]\n"
     ]
    },
    {
     "name": "stdout",
     "output_type": "stream",
     "text": [
      "37.89471796138704\n",
      "37.45820582035938\n",
      "4583.906481322263\n",
      "2569.3480682610234\n",
      "37.72863752629877\n",
      "37.00731940906497\n",
      "4323.230208365834\n",
      "2748.6906265607404\n",
      "fill method: median, std_method: standard, model: Ridge with parameter: {'alpha': 14.426439512181574, 'fit_intercept': False}\n",
      "error: 29.981012131384013\n",
      "Computing KFold 2/5...\n"
     ]
    },
    {
     "name": "stderr",
     "output_type": "stream",
     "text": [
      "100%|█████████████████████████████████████████████| 5/5 [03:27<00:00, 41.43s/it]\n"
     ]
    },
    {
     "name": "stdout",
     "output_type": "stream",
     "text": [
      "37.89471796138704\n",
      "37.45820582035938\n",
      "4583.906481322263\n",
      "2569.3480682610234\n",
      "37.72863752629877\n",
      "37.00731940906497\n",
      "4323.230208365834\n",
      "2748.6906265607404\n",
      "fill method: median, std_method: standard, model: Ridge with parameter: {'alpha': 14.426439512181574, 'fit_intercept': False}\n",
      "error: 30.062271223665828\n",
      "Computing KFold 3/5...\n"
     ]
    },
    {
     "name": "stderr",
     "output_type": "stream",
     "text": [
      "100%|█████████████████████████████████████████████| 5/5 [03:25<00:00, 41.06s/it]\n"
     ]
    },
    {
     "name": "stdout",
     "output_type": "stream",
     "text": [
      "37.89471796138704\n",
      "37.45820582035938\n",
      "4583.906481322263\n",
      "2569.3480682610234\n",
      "37.72863752629877\n",
      "37.00731940906497\n",
      "4323.230208365834\n",
      "2748.6906265607404\n",
      "fill method: median, std_method: standard, model: Ridge with parameter: {'alpha': 14.426439512181574, 'fit_intercept': False}\n",
      "error: 23.935875102475872\n",
      "Computing KFold 4/5...\n"
     ]
    },
    {
     "name": "stderr",
     "output_type": "stream",
     "text": [
      "100%|█████████████████████████████████████████████| 5/5 [03:25<00:00, 41.07s/it]\n"
     ]
    },
    {
     "name": "stdout",
     "output_type": "stream",
     "text": [
      "37.89471796138704\n",
      "37.45820582035938\n",
      "4583.906481322263\n",
      "2569.3480682610234\n",
      "37.72863752629877\n",
      "37.00731940906497\n",
      "4323.230208365834\n",
      "2748.6906265607404\n",
      "fill method: median, std_method: standard, model: Ridge with parameter: {'alpha': 14.426439512181574, 'fit_intercept': False}\n",
      "error: 36.88154633277559\n",
      "Computing KFold 5/5...\n"
     ]
    },
    {
     "name": "stderr",
     "output_type": "stream",
     "text": [
      "100%|█████████████████████████████████████████████| 5/5 [03:48<00:00, 45.68s/it]"
     ]
    },
    {
     "name": "stdout",
     "output_type": "stream",
     "text": [
      "37.89471796138704\n",
      "37.45820582035938\n",
      "4583.906481322263\n",
      "2569.3480682610234\n",
      "37.72863752629877\n",
      "37.00731940906497\n",
      "4323.230208365834\n",
      "2748.6906265607404\n",
      "fill method: median, std_method: standard, model: Ridge with parameter: {'alpha': 14.426439512181574, 'fit_intercept': False}\n",
      "error: 27.114728730466926\n"
     ]
    },
    {
     "name": "stderr",
     "output_type": "stream",
     "text": [
      "\n"
     ]
    }
   ],
   "source": [
    "from sklearn.dummy import DummyRegressor\n",
    "from sklearn.linear_model import LinearRegression, Ridge, Lasso, ElasticNet\n",
    "from sklearn.ensemble import RandomForestRegressor, GradientBoostingRegressor\n",
    "from sklearn.neighbors import KNeighborsRegressor\n",
    "\n",
    "df_raw, df_Xn_raw = load_data()\n",
    "std_methods = ['standard','minmax']\n",
    "fill_methods = ['mean', 'median']\n",
    "random_state = 3\n",
    "params = {}\n",
    "lam = np.logspace(-2, 4, 1000)\n",
    "lam_1 = np.logspace(2, 5, 1000)\n",
    "# C = [200000000, 10000000, 0.1519911082952933, 0.2848035868435805 ]\n",
    "params['DummyRegressor'] = {'strategy': ['mean', 'median']}\n",
    "params['LinearRegression'] = {'fit_intercept': [True, False]}\n",
    "params['Ridge'] = {'alpha': lam, 'fit_intercept': [True, False]}\n",
    "params['Lasso'] = {'alpha': lam_1, 'fit_intercept': [True, False], 'max_iter': [1000]}\n",
    "params['ElasticNet'] = {'alpha': lam_1, 'l1_ratio': [0.1, 0.5], 'fit_intercept': [True,False], 'max_iter':[1000]}\n",
    "params['RandomForestRegressor'] = {'n_estimators':[10, 50], 'max_depth':[None ,5], 'min_samples_split':[2 ,10], 'random_state':[random_state]}\n",
    "params['GradientBoostingRegressor'] = {'n_estimators':[10 ,50], 'learning_rate':[0.01 ,0.1], 'max_depth':[3 ,5], 'min_samples_split':[2 ,10], 'random_state':[random_state]}\n",
    "params['KNeighborsRegressor'] = {'n_neighbors':list(range(1,25)),'n_jobs': [-1],'weights':['uniform', 'distance'],'p':[1,2]}\n",
    "\n",
    "# Create a list of models\n",
    "models = [DummyRegressor(),\n",
    "          LinearRegression(),\n",
    "          Ridge(random_state=random_state),\n",
    "          Lasso(random_state=random_state),\n",
    "          ElasticNet(random_state=random_state),\n",
    "          RandomForestRegressor(random_state=random_state),\n",
    "          GradientBoostingRegressor(random_state=random_state),\n",
    "          KNeighborsRegressor()\n",
    "         ]\n",
    "k1 = 5\n",
    "k2 = 5\n",
    "best_fill,best_std,best_name_model,errors_out = twolevelcv(df_raw, k1=k1, k2=k2, models=models,params=params, rs=random_state, fill_methods=fill_methods, std_method = std_methods)"
   ]
  },
  {
   "cell_type": "code",
   "execution_count": 18,
   "metadata": {},
   "outputs": [
    {
     "data": {
      "text/plain": [
       "29.595086704153648"
      ]
     },
     "execution_count": 18,
     "metadata": {},
     "output_type": "execute_result"
    }
   ],
   "source": [
    "np.mean(errors_out)"
   ]
  }
 ],
 "metadata": {
  "kernelspec": {
   "display_name": "Python 3 (ipykernel)",
   "language": "python",
   "name": "python3"
  },
  "language_info": {
   "codemirror_mode": {
    "name": "ipython",
    "version": 3
   },
   "file_extension": ".py",
   "mimetype": "text/x-python",
   "name": "python",
   "nbconvert_exporter": "python",
   "pygments_lexer": "ipython3",
   "version": "3.10.9"
  }
 },
 "nbformat": 4,
 "nbformat_minor": 2
}
