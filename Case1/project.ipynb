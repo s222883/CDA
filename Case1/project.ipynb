{
 "cells": [
  {
   "cell_type": "code",
   "execution_count": 2,
   "metadata": {},
   "outputs": [],
   "source": [
    "%load_ext autoreload\n",
    "%autoreload 2"
   ]
  },
  {
   "cell_type": "code",
   "execution_count": 3,
   "metadata": {},
   "outputs": [],
   "source": [
    "from data_cleaning import *\n",
    "import pandas as pd\n",
    "import numpy as np\n",
    "from sklearn.preprocessing import LabelEncoder\n",
    "from sklearn.model_selection import train_test_split, KFold\n",
    "from sklearn.preprocessing import StandardScaler\n",
    "from sklearn.metrics import mean_squared_error as mse\n",
    "import matplotlib.pyplot as plt\n",
    "import seaborn as sb\n",
    "from scipy import stats\n",
    "from sklearn.model_selection import ParameterGrid\n",
    "from scipy.stats import pearsonr\n",
    "from tqdm import tqdm"
   ]
  },
  {
   "cell_type": "code",
   "execution_count": 55,
   "metadata": {},
   "outputs": [],
   "source": [
    "def dataset_creator(methods, models_names: list, columns_names: list, k1: int):\n",
    "    header = pd.MultiIndex.from_product([methods, models_names, columns_names])\n",
    "    df = pd.DataFrame(columns=header)\n",
    "    df['KFold'] = np.arange(1, k1+1)\n",
    "    df.set_index('KFold', inplace=True)\n",
    "    return df\n",
    "\n",
    "def twolevelcv(df, k1: int, k2: int, models: list, params: dict, rs: int, fill_methods: list, std_method: str):\n",
    "    \"\"\"Allows to compute two level crossvalidation.\n",
    "\n",
    "    Args:\n",
    "        X (np.array): Features (numeric)\n",
    "        y (np.array): Class (objective variable)\n",
    "        k1 (int): Nº of outer folds\n",
    "        k2 (int): Nº of inner folds\n",
    "        models (list): List of models for comparison\n",
    "        params (dict): Dictionary including the set of parameters. In this case we only tune 1 parameter per model.\n",
    "        rs (int): Random state\n",
    "    Returns:\n",
    "        df: Dataframe\n",
    "    \"\"\"\n",
    "    k = 0\n",
    "    names = [type(m).__name__ for m in models]\n",
    "    col_names = ['Param. Value', 'Error']\n",
    "    results_df = dataset_creator(fill_methods, names, col_names, k1)\n",
    "    kf1 = KFold(k1, shuffle = True, random_state=rs)\n",
    "    X_raw = df.drop('y', axis=1)\n",
    "    y = df['y']\n",
    "    # first level split\n",
    "    for train_idx1, test_idx1 in kf1.split(X_raw, y):\n",
    "        error_test = {}\n",
    "        k += 1\n",
    "        kf2 = KFold(k2, shuffle = True, random_state=rs)\n",
    "        print(f'Computing KFold {k}/{k1}...')\n",
    "        # second level split\n",
    "        mean_errors = []\n",
    "        for train_idx2, test_idx2 in tqdm(kf2.split(X_raw.iloc[train_idx1, :], y[train_idx1]), total = k2):\n",
    "            for method in fill_methods:\n",
    "                X_train = transform_data(X_raw.iloc[train_idx2, :], fill_method=method, std_method=std_method).values\n",
    "                y_train = y[train_idx2]\n",
    "                X_test = transform_data(X_raw, fill_method=method, std_method=std_method).iloc[test_idx2, :].values\n",
    "                y_test = y[test_idx2]\n",
    "                for name, model in zip(names, models):\n",
    "                    grid = ParameterGrid(params[name])\n",
    "                    for p_ in grid:\n",
    "                        model = model.set_params(**p_)\n",
    "                        # train the model\n",
    "                        model.fit(X_train, y_train)\n",
    "                        # evaluate performance\n",
    "                        pred2_test = model.predict(X_test)\n",
    "                        if tuple([method, str(name), str(p_)]) not in error_test.keys():\n",
    "                            error_test[tuple([method, name, str(p_)])] = mse(y_test, pred2_test, squared=False)/k2\n",
    "                        else:\n",
    "                            error_test[tuple([method, name, str(p_)])] += mse(y_test, pred2_test, squared=False)/k2\n",
    "        \n",
    "    # results_df.loc(axis = 1)[method, name, 'Error'][k] = error_test[idx]\n",
    "    # results_df.loc(axis = 1)[method, name, 'Param. Value'][k] = min_param\n",
    "    return error_test, test_idx1"
   ]
  },
  {
   "attachments": {},
   "cell_type": "markdown",
   "metadata": {},
   "source": [
    "### **Data flow**"
   ]
  },
  {
   "cell_type": "code",
   "execution_count": 56,
   "metadata": {},
   "outputs": [],
   "source": [
    "# std_methods = ['standard', 'minmax', 'maxabs', 'robust']"
   ]
  },
  {
   "cell_type": "code",
   "execution_count": 57,
   "metadata": {},
   "outputs": [
    {
     "name": "stdout",
     "output_type": "stream",
     "text": [
      "Computing KFold 1/10...\n"
     ]
    },
    {
     "name": "stderr",
     "output_type": "stream",
     "text": [
      "100%|██████████| 10/10 [00:15<00:00,  1.50s/it]\n"
     ]
    },
    {
     "name": "stdout",
     "output_type": "stream",
     "text": [
      "Computing KFold 2/10...\n"
     ]
    },
    {
     "name": "stderr",
     "output_type": "stream",
     "text": [
      "100%|██████████| 10/10 [00:13<00:00,  1.31s/it]\n"
     ]
    },
    {
     "name": "stdout",
     "output_type": "stream",
     "text": [
      "Computing KFold 3/10...\n"
     ]
    },
    {
     "name": "stderr",
     "output_type": "stream",
     "text": [
      "100%|██████████| 10/10 [00:13<00:00,  1.38s/it]\n"
     ]
    },
    {
     "name": "stdout",
     "output_type": "stream",
     "text": [
      "Computing KFold 4/10...\n"
     ]
    },
    {
     "name": "stderr",
     "output_type": "stream",
     "text": [
      "100%|██████████| 10/10 [00:14<00:00,  1.42s/it]\n"
     ]
    },
    {
     "name": "stdout",
     "output_type": "stream",
     "text": [
      "Computing KFold 5/10...\n"
     ]
    },
    {
     "name": "stderr",
     "output_type": "stream",
     "text": [
      "100%|██████████| 10/10 [00:13<00:00,  1.33s/it]\n"
     ]
    },
    {
     "name": "stdout",
     "output_type": "stream",
     "text": [
      "Computing KFold 6/10...\n"
     ]
    },
    {
     "name": "stderr",
     "output_type": "stream",
     "text": [
      "100%|██████████| 10/10 [00:11<00:00,  1.19s/it]\n"
     ]
    },
    {
     "name": "stdout",
     "output_type": "stream",
     "text": [
      "Computing KFold 7/10...\n"
     ]
    },
    {
     "name": "stderr",
     "output_type": "stream",
     "text": [
      "100%|██████████| 10/10 [00:14<00:00,  1.44s/it]\n"
     ]
    },
    {
     "name": "stdout",
     "output_type": "stream",
     "text": [
      "Computing KFold 8/10...\n"
     ]
    },
    {
     "name": "stderr",
     "output_type": "stream",
     "text": [
      "100%|██████████| 10/10 [00:13<00:00,  1.38s/it]\n"
     ]
    },
    {
     "name": "stdout",
     "output_type": "stream",
     "text": [
      "Computing KFold 9/10...\n"
     ]
    },
    {
     "name": "stderr",
     "output_type": "stream",
     "text": [
      "100%|██████████| 10/10 [00:14<00:00,  1.47s/it]\n"
     ]
    },
    {
     "name": "stdout",
     "output_type": "stream",
     "text": [
      "Computing KFold 10/10...\n"
     ]
    },
    {
     "name": "stderr",
     "output_type": "stream",
     "text": [
      "100%|██████████| 10/10 [00:12<00:00,  1.27s/it]\n"
     ]
    }
   ],
   "source": [
    "from sklearn.dummy import DummyRegressor\n",
    "from sklearn.linear_model import LinearRegression, Ridge, Lasso, ElasticNet\n",
    "from sklearn.ensemble import RandomForestRegressor, GradientBoostingRegressor\n",
    "\n",
    "df_raw, df_Xn_raw = load_data()\n",
    "fill_methods = ['mean', 'median']\n",
    "random_state = 3\n",
    "params = {}\n",
    "lam = np.logspace(-2, 4, 100)\n",
    "lam_1 = np.logspace(2, 5, 100)\n",
    "# C = [200000000, 10000000, 0.1519911082952933, 0.2848035868435805 ]\n",
    "params['DummyRegressor'] = {'strategy': ['mean', 'median']}\n",
    "params['LinearRegression'] = {'fit_intercept': [True, False]}\n",
    "params['Ridge'] = {'alpha': lam, 'fit_intercept': [True, False]}\n",
    "params['Lasso'] = {'alpha': lam_1, 'fit_intercept': [True, False], 'max_iter': [1000]}\n",
    "params['ElasticNet'] = {'alpha': lam_1, 'l1_ratio': [0.1, 0.5], 'fit_intercept': [True,False], 'max_iter':[1000]}\n",
    "params['RandomForestRegressor'] = {'n_estimators':[10, 50], 'max_depth':[None ,5], 'min_samples_split':[2 ,10], 'random_state':[random_state]}\n",
    "params['GradientBoostingRegressor'] = {'n_estimators':[10 ,50], 'learning_rate':[0.01 ,0.1], 'max_depth':[3 ,5], 'min_samples_split':[2 ,10], 'random_state':[random_state]}\n",
    "\n",
    "# Create a list of models\n",
    "models = [DummyRegressor(),\n",
    "          LinearRegression(),\n",
    "          Ridge(random_state=random_state)]\n",
    "        #   Lasso(random_state=random_state),\n",
    "        #   ElasticNet(random_state=random_state),\n",
    "        #   RandomForestRegressor(random_state=random_state),\n",
    "        #   GradientBoostingRegressor(random_state=random_state)]\n",
    "k1 = 10\n",
    "k2 = 10\n",
    "Table, test_set_outer = twolevelcv(df_raw, k1=k1, k2=k2, models=models, params=params, rs=random_state, fill_methods=fill_methods, std_method= 'standard')"
   ]
  },
  {
   "cell_type": "code",
   "execution_count": 61,
   "metadata": {},
   "outputs": [
    {
     "ename": "AttributeError",
     "evalue": "'dict' object has no attribute 'min'",
     "output_type": "error",
     "traceback": [
      "\u001b[1;31m---------------------------------------------------------------------------\u001b[0m",
      "\u001b[1;31mAttributeError\u001b[0m                            Traceback (most recent call last)",
      "\u001b[1;32mc:\\Users\\Diego\\Documents\\DTU\\Spring2023\\CDA\\CDA_Projects\\Case1\\project.ipynb Cell 7\u001b[0m in \u001b[0;36m<cell line: 1>\u001b[1;34m()\u001b[0m\n\u001b[1;32m----> <a href='vscode-notebook-cell:/c%3A/Users/Diego/Documents/DTU/Spring2023/CDA/CDA_Projects/Case1/project.ipynb#W6sZmlsZQ%3D%3D?line=0'>1</a>\u001b[0m Table\u001b[39m.\u001b[39;49mmin()\n",
      "\u001b[1;31mAttributeError\u001b[0m: 'dict' object has no attribute 'min'"
     ]
    }
   ],
   "source": [
    "Table.min()"
   ]
  },
  {
   "cell_type": "code",
   "execution_count": null,
   "metadata": {},
   "outputs": [],
   "source": []
  }
 ],
 "metadata": {
  "kernelspec": {
   "display_name": "ML",
   "language": "python",
   "name": "python3"
  },
  "language_info": {
   "codemirror_mode": {
    "name": "ipython",
    "version": 3
   },
   "file_extension": ".py",
   "mimetype": "text/x-python",
   "name": "python",
   "nbconvert_exporter": "python",
   "pygments_lexer": "ipython3",
   "version": "3.8.13"
  },
  "orig_nbformat": 4
 },
 "nbformat": 4,
 "nbformat_minor": 2
}
